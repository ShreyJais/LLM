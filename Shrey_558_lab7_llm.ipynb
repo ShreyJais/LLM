{
  "cells": [
    {
      "cell_type": "markdown",
      "metadata": {
        "id": "view-in-github",
        "colab_type": "text"
      },
      "source": [
        "<a href=\"https://colab.research.google.com/github/ShreyJais/LLM/blob/main/Shrey_558_lab7_llm.ipynb\" target=\"_parent\"><img src=\"https://colab.research.google.com/assets/colab-badge.svg\" alt=\"Open In Colab\"/></a>"
      ]
    },
    {
      "cell_type": "markdown",
      "source": [
        "encoding for audio dataset"
      ],
      "metadata": {
        "id": "Le0hwLsURDGn"
      }
    },
    {
      "cell_type": "code",
      "source": [
        "import librosa\n",
        "\n",
        "# Load the audio file\n",
        "audio_file = '/content/audio.wav'\n",
        "y, sr = librosa.load(audio_file)\n",
        "\n",
        "# Extract MFCCs\n",
        "mfccs = librosa.feature.mfcc(y=y, sr=sr, n_mfcc=13)\n",
        "\n",
        "# Now you can use the MFCCs as features for your model\n",
        "print(mfccs.shape)"
      ],
      "metadata": {
        "colab": {
          "base_uri": "https://localhost:8080/"
        },
        "id": "HemIV5BiQzX0",
        "outputId": "a5a9eaab-0463-45c1-c524-65a52078f985"
      },
      "execution_count": 3,
      "outputs": [
        {
          "output_type": "stream",
          "name": "stdout",
          "text": [
            "(13, 187)\n"
          ]
        }
      ]
    },
    {
      "cell_type": "code",
      "source": [
        "mfccs"
      ],
      "metadata": {
        "colab": {
          "base_uri": "https://localhost:8080/"
        },
        "id": "67t1oew2Qzss",
        "outputId": "972501f1-b7ca-4583-c8e3-2c0688696166"
      },
      "execution_count": 4,
      "outputs": [
        {
          "output_type": "execute_result",
          "data": {
            "text/plain": [
              "array([[-2.7446127e+02, -2.3617276e+02, -2.3669040e+02, ...,\n",
              "        -2.3781688e+02, -2.3780669e+02, -2.4653395e+02],\n",
              "       [ 6.1318062e+01,  6.2922844e+01,  5.9043556e+01, ...,\n",
              "         5.8751743e+01,  6.2385521e+01,  6.1998199e+01],\n",
              "       [-6.3527956e+00, -4.0125427e+00, -2.3959053e-01, ...,\n",
              "        -3.9349840e+00, -4.7851804e-01, -3.7882226e+00],\n",
              "       ...,\n",
              "       [-2.1467836e+00, -5.9492731e+00, -4.0677452e+00, ...,\n",
              "        -8.2891407e+00, -1.0621653e+01, -9.6447020e+00],\n",
              "       [ 9.9535370e+00,  9.8858891e+00,  1.7331823e+01, ...,\n",
              "         7.5137358e+00,  9.6892643e+00,  8.7262793e+00],\n",
              "       [-7.1871185e+00, -5.5868669e+00, -3.3945704e+00, ...,\n",
              "        -8.3062801e+00, -8.2567902e+00, -5.6485157e+00]], dtype=float32)"
            ]
          },
          "metadata": {},
          "execution_count": 4
        }
      ]
    },
    {
      "cell_type": "code",
      "source": [],
      "metadata": {
        "id": "zNbdHz-kQ9af"
      },
      "execution_count": null,
      "outputs": []
    }
  ],
  "metadata": {
    "colab": {
      "provenance": [],
      "gpuType": "T4",
      "include_colab_link": true
    },
    "kernelspec": {
      "display_name": "Python 3",
      "name": "python3"
    },
    "language_info": {
      "name": "python"
    },
    "accelerator": "GPU"
  },
  "nbformat": 4,
  "nbformat_minor": 0
}