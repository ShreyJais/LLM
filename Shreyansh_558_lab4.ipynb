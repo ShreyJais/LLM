{
  "cells": [
    {
      "cell_type": "markdown",
      "metadata": {
        "id": "view-in-github",
        "colab_type": "text"
      },
      "source": [
        "<a href=\"https://colab.research.google.com/github/ShreyJais/LLM/blob/main/Shreyansh_558_lab4.ipynb\" target=\"_parent\"><img src=\"https://colab.research.google.com/assets/colab-badge.svg\" alt=\"Open In Colab\"/></a>"
      ]
    },
    {
      "cell_type": "markdown",
      "metadata": {
        "id": "fcQc9NxLwBBf"
      },
      "source": [
        "#install and import requried modules"
      ]
    },
    {
      "cell_type": "code",
      "execution_count": 1,
      "metadata": {
        "colab": {
          "base_uri": "https://localhost:8080/",
          "height": 1000
        },
        "id": "YfGnIYqd4x5r",
        "outputId": "fd00e81e-50e8-40fa-fdc3-951e6cc2db7a"
      },
      "outputs": [
        {
          "output_type": "stream",
          "name": "stdout",
          "text": [
            "Collecting tensorflow-text==2.13.*\n",
            "  Downloading tensorflow_text-2.13.0-cp310-cp310-manylinux_2_17_x86_64.manylinux2014_x86_64.whl.metadata (2.0 kB)\n",
            "Requirement already satisfied: tensorflow-hub>=0.8.0 in /usr/local/lib/python3.10/dist-packages (from tensorflow-text==2.13.*) (0.16.1)\n",
            "Collecting tensorflow<2.14,>=2.13.0 (from tensorflow-text==2.13.*)\n",
            "  Downloading tensorflow-2.13.1-cp310-cp310-manylinux_2_17_x86_64.manylinux2014_x86_64.whl.metadata (3.4 kB)\n",
            "Requirement already satisfied: absl-py>=1.0.0 in /usr/local/lib/python3.10/dist-packages (from tensorflow<2.14,>=2.13.0->tensorflow-text==2.13.*) (1.4.0)\n",
            "Requirement already satisfied: astunparse>=1.6.0 in /usr/local/lib/python3.10/dist-packages (from tensorflow<2.14,>=2.13.0->tensorflow-text==2.13.*) (1.6.3)\n",
            "Requirement already satisfied: flatbuffers>=23.1.21 in /usr/local/lib/python3.10/dist-packages (from tensorflow<2.14,>=2.13.0->tensorflow-text==2.13.*) (24.3.25)\n",
            "Collecting gast<=0.4.0,>=0.2.1 (from tensorflow<2.14,>=2.13.0->tensorflow-text==2.13.*)\n",
            "  Downloading gast-0.4.0-py3-none-any.whl.metadata (1.1 kB)\n",
            "Requirement already satisfied: google-pasta>=0.1.1 in /usr/local/lib/python3.10/dist-packages (from tensorflow<2.14,>=2.13.0->tensorflow-text==2.13.*) (0.2.0)\n",
            "Requirement already satisfied: grpcio<2.0,>=1.24.3 in /usr/local/lib/python3.10/dist-packages (from tensorflow<2.14,>=2.13.0->tensorflow-text==2.13.*) (1.64.1)\n",
            "Requirement already satisfied: h5py>=2.9.0 in /usr/local/lib/python3.10/dist-packages (from tensorflow<2.14,>=2.13.0->tensorflow-text==2.13.*) (3.11.0)\n",
            "Collecting keras<2.14,>=2.13.1 (from tensorflow<2.14,>=2.13.0->tensorflow-text==2.13.*)\n",
            "  Downloading keras-2.13.1-py3-none-any.whl.metadata (2.4 kB)\n",
            "Requirement already satisfied: libclang>=13.0.0 in /usr/local/lib/python3.10/dist-packages (from tensorflow<2.14,>=2.13.0->tensorflow-text==2.13.*) (18.1.1)\n",
            "Collecting numpy<=1.24.3,>=1.22 (from tensorflow<2.14,>=2.13.0->tensorflow-text==2.13.*)\n",
            "  Downloading numpy-1.24.3-cp310-cp310-manylinux_2_17_x86_64.manylinux2014_x86_64.whl.metadata (5.6 kB)\n",
            "Requirement already satisfied: opt-einsum>=2.3.2 in /usr/local/lib/python3.10/dist-packages (from tensorflow<2.14,>=2.13.0->tensorflow-text==2.13.*) (3.3.0)\n",
            "Requirement already satisfied: packaging in /usr/local/lib/python3.10/dist-packages (from tensorflow<2.14,>=2.13.0->tensorflow-text==2.13.*) (24.1)\n",
            "Requirement already satisfied: protobuf!=4.21.0,!=4.21.1,!=4.21.2,!=4.21.3,!=4.21.4,!=4.21.5,<5.0.0dev,>=3.20.3 in /usr/local/lib/python3.10/dist-packages (from tensorflow<2.14,>=2.13.0->tensorflow-text==2.13.*) (3.20.3)\n",
            "Requirement already satisfied: setuptools in /usr/local/lib/python3.10/dist-packages (from tensorflow<2.14,>=2.13.0->tensorflow-text==2.13.*) (71.0.4)\n",
            "Requirement already satisfied: six>=1.12.0 in /usr/local/lib/python3.10/dist-packages (from tensorflow<2.14,>=2.13.0->tensorflow-text==2.13.*) (1.16.0)\n",
            "Collecting tensorboard<2.14,>=2.13 (from tensorflow<2.14,>=2.13.0->tensorflow-text==2.13.*)\n",
            "  Downloading tensorboard-2.13.0-py3-none-any.whl.metadata (1.8 kB)\n",
            "Collecting tensorflow-estimator<2.14,>=2.13.0 (from tensorflow<2.14,>=2.13.0->tensorflow-text==2.13.*)\n",
            "  Downloading tensorflow_estimator-2.13.0-py2.py3-none-any.whl.metadata (1.3 kB)\n",
            "Requirement already satisfied: termcolor>=1.1.0 in /usr/local/lib/python3.10/dist-packages (from tensorflow<2.14,>=2.13.0->tensorflow-text==2.13.*) (2.4.0)\n",
            "Collecting typing-extensions<4.6.0,>=3.6.6 (from tensorflow<2.14,>=2.13.0->tensorflow-text==2.13.*)\n",
            "  Downloading typing_extensions-4.5.0-py3-none-any.whl.metadata (8.5 kB)\n",
            "Requirement already satisfied: wrapt>=1.11.0 in /usr/local/lib/python3.10/dist-packages (from tensorflow<2.14,>=2.13.0->tensorflow-text==2.13.*) (1.14.1)\n",
            "Requirement already satisfied: tensorflow-io-gcs-filesystem>=0.23.1 in /usr/local/lib/python3.10/dist-packages (from tensorflow<2.14,>=2.13.0->tensorflow-text==2.13.*) (0.37.1)\n",
            "Requirement already satisfied: tf-keras>=2.14.1 in /usr/local/lib/python3.10/dist-packages (from tensorflow-hub>=0.8.0->tensorflow-text==2.13.*) (2.15.1)\n",
            "Requirement already satisfied: wheel<1.0,>=0.23.0 in /usr/local/lib/python3.10/dist-packages (from astunparse>=1.6.0->tensorflow<2.14,>=2.13.0->tensorflow-text==2.13.*) (0.43.0)\n",
            "Requirement already satisfied: google-auth<3,>=1.6.3 in /usr/local/lib/python3.10/dist-packages (from tensorboard<2.14,>=2.13->tensorflow<2.14,>=2.13.0->tensorflow-text==2.13.*) (2.27.0)\n",
            "Collecting google-auth-oauthlib<1.1,>=0.5 (from tensorboard<2.14,>=2.13->tensorflow<2.14,>=2.13.0->tensorflow-text==2.13.*)\n",
            "  Downloading google_auth_oauthlib-1.0.0-py2.py3-none-any.whl.metadata (2.7 kB)\n",
            "Requirement already satisfied: markdown>=2.6.8 in /usr/local/lib/python3.10/dist-packages (from tensorboard<2.14,>=2.13->tensorflow<2.14,>=2.13.0->tensorflow-text==2.13.*) (3.6)\n",
            "Requirement already satisfied: requests<3,>=2.21.0 in /usr/local/lib/python3.10/dist-packages (from tensorboard<2.14,>=2.13->tensorflow<2.14,>=2.13.0->tensorflow-text==2.13.*) (2.31.0)\n",
            "Requirement already satisfied: tensorboard-data-server<0.8.0,>=0.7.0 in /usr/local/lib/python3.10/dist-packages (from tensorboard<2.14,>=2.13->tensorflow<2.14,>=2.13.0->tensorflow-text==2.13.*) (0.7.2)\n",
            "Requirement already satisfied: werkzeug>=1.0.1 in /usr/local/lib/python3.10/dist-packages (from tensorboard<2.14,>=2.13->tensorflow<2.14,>=2.13.0->tensorflow-text==2.13.*) (3.0.3)\n",
            "INFO: pip is looking at multiple versions of tf-keras to determine which version is compatible with other requirements. This could take a while.\n",
            "Collecting tf-keras>=2.14.1 (from tensorflow-hub>=0.8.0->tensorflow-text==2.13.*)\n",
            "  Downloading tf_keras-2.17.0-py3-none-any.whl.metadata (1.6 kB)\n",
            "  Downloading tf_keras-2.16.0-py3-none-any.whl.metadata (1.6 kB)\n",
            "  Downloading tf_keras-2.15.0-py3-none-any.whl.metadata (1.6 kB)\n",
            "Requirement already satisfied: cachetools<6.0,>=2.0.0 in /usr/local/lib/python3.10/dist-packages (from google-auth<3,>=1.6.3->tensorboard<2.14,>=2.13->tensorflow<2.14,>=2.13.0->tensorflow-text==2.13.*) (5.4.0)\n",
            "Requirement already satisfied: pyasn1-modules>=0.2.1 in /usr/local/lib/python3.10/dist-packages (from google-auth<3,>=1.6.3->tensorboard<2.14,>=2.13->tensorflow<2.14,>=2.13.0->tensorflow-text==2.13.*) (0.4.0)\n",
            "Requirement already satisfied: rsa<5,>=3.1.4 in /usr/local/lib/python3.10/dist-packages (from google-auth<3,>=1.6.3->tensorboard<2.14,>=2.13->tensorflow<2.14,>=2.13.0->tensorflow-text==2.13.*) (4.9)\n",
            "Requirement already satisfied: requests-oauthlib>=0.7.0 in /usr/local/lib/python3.10/dist-packages (from google-auth-oauthlib<1.1,>=0.5->tensorboard<2.14,>=2.13->tensorflow<2.14,>=2.13.0->tensorflow-text==2.13.*) (1.3.1)\n",
            "Requirement already satisfied: charset-normalizer<4,>=2 in /usr/local/lib/python3.10/dist-packages (from requests<3,>=2.21.0->tensorboard<2.14,>=2.13->tensorflow<2.14,>=2.13.0->tensorflow-text==2.13.*) (3.3.2)\n",
            "Requirement already satisfied: idna<4,>=2.5 in /usr/local/lib/python3.10/dist-packages (from requests<3,>=2.21.0->tensorboard<2.14,>=2.13->tensorflow<2.14,>=2.13.0->tensorflow-text==2.13.*) (3.7)\n",
            "Requirement already satisfied: urllib3<3,>=1.21.1 in /usr/local/lib/python3.10/dist-packages (from requests<3,>=2.21.0->tensorboard<2.14,>=2.13->tensorflow<2.14,>=2.13.0->tensorflow-text==2.13.*) (2.0.7)\n",
            "Requirement already satisfied: certifi>=2017.4.17 in /usr/local/lib/python3.10/dist-packages (from requests<3,>=2.21.0->tensorboard<2.14,>=2.13->tensorflow<2.14,>=2.13.0->tensorflow-text==2.13.*) (2024.7.4)\n",
            "Requirement already satisfied: MarkupSafe>=2.1.1 in /usr/local/lib/python3.10/dist-packages (from werkzeug>=1.0.1->tensorboard<2.14,>=2.13->tensorflow<2.14,>=2.13.0->tensorflow-text==2.13.*) (2.1.5)\n",
            "Requirement already satisfied: pyasn1<0.7.0,>=0.4.6 in /usr/local/lib/python3.10/dist-packages (from pyasn1-modules>=0.2.1->google-auth<3,>=1.6.3->tensorboard<2.14,>=2.13->tensorflow<2.14,>=2.13.0->tensorflow-text==2.13.*) (0.6.0)\n",
            "Requirement already satisfied: oauthlib>=3.0.0 in /usr/local/lib/python3.10/dist-packages (from requests-oauthlib>=0.7.0->google-auth-oauthlib<1.1,>=0.5->tensorboard<2.14,>=2.13->tensorflow<2.14,>=2.13.0->tensorflow-text==2.13.*) (3.2.2)\n",
            "Downloading tensorflow_text-2.13.0-cp310-cp310-manylinux_2_17_x86_64.manylinux2014_x86_64.whl (6.5 MB)\n",
            "\u001b[2K   \u001b[90m━━━━━━━━━━━━━━━━━━━━━━━━━━━━━━━━━━━━━━━━\u001b[0m \u001b[32m6.5/6.5 MB\u001b[0m \u001b[31m38.9 MB/s\u001b[0m eta \u001b[36m0:00:00\u001b[0m\n",
            "\u001b[?25hDownloading tensorflow-2.13.1-cp310-cp310-manylinux_2_17_x86_64.manylinux2014_x86_64.whl (479.7 MB)\n",
            "\u001b[2K   \u001b[90m━━━━━━━━━━━━━━━━━━━━━━━━━━━━━━━━━━━━━━━━\u001b[0m \u001b[32m479.7/479.7 MB\u001b[0m \u001b[31m3.8 MB/s\u001b[0m eta \u001b[36m0:00:00\u001b[0m\n",
            "\u001b[?25hDownloading gast-0.4.0-py3-none-any.whl (9.8 kB)\n",
            "Downloading keras-2.13.1-py3-none-any.whl (1.7 MB)\n",
            "\u001b[2K   \u001b[90m━━━━━━━━━━━━━━━━━━━━━━━━━━━━━━━━━━━━━━━━\u001b[0m \u001b[32m1.7/1.7 MB\u001b[0m \u001b[31m57.8 MB/s\u001b[0m eta \u001b[36m0:00:00\u001b[0m\n",
            "\u001b[?25hDownloading numpy-1.24.3-cp310-cp310-manylinux_2_17_x86_64.manylinux2014_x86_64.whl (17.3 MB)\n",
            "\u001b[2K   \u001b[90m━━━━━━━━━━━━━━━━━━━━━━━━━━━━━━━━━━━━━━━━\u001b[0m \u001b[32m17.3/17.3 MB\u001b[0m \u001b[31m60.9 MB/s\u001b[0m eta \u001b[36m0:00:00\u001b[0m\n",
            "\u001b[?25hDownloading tensorboard-2.13.0-py3-none-any.whl (5.6 MB)\n",
            "\u001b[2K   \u001b[90m━━━━━━━━━━━━━━━━━━━━━━━━━━━━━━━━━━━━━━━━\u001b[0m \u001b[32m5.6/5.6 MB\u001b[0m \u001b[31m76.2 MB/s\u001b[0m eta \u001b[36m0:00:00\u001b[0m\n",
            "\u001b[?25hDownloading tensorflow_estimator-2.13.0-py2.py3-none-any.whl (440 kB)\n",
            "\u001b[2K   \u001b[90m━━━━━━━━━━━━━━━━━━━━━━━━━━━━━━━━━━━━━━━━\u001b[0m \u001b[32m440.8/440.8 kB\u001b[0m \u001b[31m31.0 MB/s\u001b[0m eta \u001b[36m0:00:00\u001b[0m\n",
            "\u001b[?25hDownloading tf_keras-2.15.0-py3-none-any.whl (1.7 MB)\n",
            "\u001b[2K   \u001b[90m━━━━━━━━━━━━━━━━━━━━━━━━━━━━━━━━━━━━━━━━\u001b[0m \u001b[32m1.7/1.7 MB\u001b[0m \u001b[31m68.7 MB/s\u001b[0m eta \u001b[36m0:00:00\u001b[0m\n",
            "\u001b[?25hDownloading typing_extensions-4.5.0-py3-none-any.whl (27 kB)\n",
            "Downloading google_auth_oauthlib-1.0.0-py2.py3-none-any.whl (18 kB)\n",
            "Installing collected packages: typing-extensions, tf-keras, tensorflow-estimator, numpy, keras, gast, google-auth-oauthlib, tensorboard, tensorflow, tensorflow-text\n",
            "  Attempting uninstall: typing-extensions\n",
            "    Found existing installation: typing_extensions 4.12.2\n",
            "    Uninstalling typing_extensions-4.12.2:\n",
            "      Successfully uninstalled typing_extensions-4.12.2\n",
            "  Attempting uninstall: tf-keras\n",
            "    Found existing installation: tf_keras 2.15.1\n",
            "    Uninstalling tf_keras-2.15.1:\n",
            "      Successfully uninstalled tf_keras-2.15.1\n",
            "  Attempting uninstall: tensorflow-estimator\n",
            "    Found existing installation: tensorflow-estimator 2.15.0\n",
            "    Uninstalling tensorflow-estimator-2.15.0:\n",
            "      Successfully uninstalled tensorflow-estimator-2.15.0\n",
            "  Attempting uninstall: numpy\n",
            "    Found existing installation: numpy 1.25.2\n",
            "    Uninstalling numpy-1.25.2:\n",
            "      Successfully uninstalled numpy-1.25.2\n",
            "  Attempting uninstall: keras\n",
            "    Found existing installation: keras 2.15.0\n",
            "    Uninstalling keras-2.15.0:\n",
            "      Successfully uninstalled keras-2.15.0\n",
            "  Attempting uninstall: gast\n",
            "    Found existing installation: gast 0.6.0\n",
            "    Uninstalling gast-0.6.0:\n",
            "      Successfully uninstalled gast-0.6.0\n",
            "  Attempting uninstall: google-auth-oauthlib\n",
            "    Found existing installation: google-auth-oauthlib 1.2.1\n",
            "    Uninstalling google-auth-oauthlib-1.2.1:\n",
            "      Successfully uninstalled google-auth-oauthlib-1.2.1\n",
            "  Attempting uninstall: tensorboard\n",
            "    Found existing installation: tensorboard 2.15.2\n",
            "    Uninstalling tensorboard-2.15.2:\n",
            "      Successfully uninstalled tensorboard-2.15.2\n",
            "  Attempting uninstall: tensorflow\n",
            "    Found existing installation: tensorflow 2.15.0\n",
            "    Uninstalling tensorflow-2.15.0:\n",
            "      Successfully uninstalled tensorflow-2.15.0\n",
            "\u001b[31mERROR: pip's dependency resolver does not currently take into account all the packages that are installed. This behaviour is the source of the following dependency conflicts.\n",
            "torch 2.3.1+cu121 requires nvidia-cublas-cu12==12.1.3.1; platform_system == \"Linux\" and platform_machine == \"x86_64\", which is not installed.\n",
            "torch 2.3.1+cu121 requires nvidia-cuda-cupti-cu12==12.1.105; platform_system == \"Linux\" and platform_machine == \"x86_64\", which is not installed.\n",
            "torch 2.3.1+cu121 requires nvidia-cuda-nvrtc-cu12==12.1.105; platform_system == \"Linux\" and platform_machine == \"x86_64\", which is not installed.\n",
            "torch 2.3.1+cu121 requires nvidia-cuda-runtime-cu12==12.1.105; platform_system == \"Linux\" and platform_machine == \"x86_64\", which is not installed.\n",
            "torch 2.3.1+cu121 requires nvidia-cudnn-cu12==8.9.2.26; platform_system == \"Linux\" and platform_machine == \"x86_64\", which is not installed.\n",
            "torch 2.3.1+cu121 requires nvidia-cufft-cu12==11.0.2.54; platform_system == \"Linux\" and platform_machine == \"x86_64\", which is not installed.\n",
            "torch 2.3.1+cu121 requires nvidia-curand-cu12==10.3.2.106; platform_system == \"Linux\" and platform_machine == \"x86_64\", which is not installed.\n",
            "torch 2.3.1+cu121 requires nvidia-cusolver-cu12==11.4.5.107; platform_system == \"Linux\" and platform_machine == \"x86_64\", which is not installed.\n",
            "torch 2.3.1+cu121 requires nvidia-cusparse-cu12==12.1.0.106; platform_system == \"Linux\" and platform_machine == \"x86_64\", which is not installed.\n",
            "torch 2.3.1+cu121 requires nvidia-nccl-cu12==2.20.5; platform_system == \"Linux\" and platform_machine == \"x86_64\", which is not installed.\n",
            "torch 2.3.1+cu121 requires nvidia-nvtx-cu12==12.1.105; platform_system == \"Linux\" and platform_machine == \"x86_64\", which is not installed.\n",
            "xgboost 2.1.0 requires nvidia-nccl-cu12; platform_system == \"Linux\" and platform_machine != \"aarch64\", which is not installed.\n",
            "sqlalchemy 2.0.31 requires typing-extensions>=4.6.0, but you have typing-extensions 4.5.0 which is incompatible.\n",
            "albucore 0.0.12 requires numpy<2,>=1.24.4, but you have numpy 1.24.3 which is incompatible.\n",
            "albucore 0.0.12 requires typing-extensions>=4.9.0, but you have typing-extensions 4.5.0 which is incompatible.\n",
            "albumentations 1.4.11 requires numpy>=1.24.4, but you have numpy 1.24.3 which is incompatible.\n",
            "albumentations 1.4.11 requires typing-extensions>=4.9.0, but you have typing-extensions 4.5.0 which is incompatible.\n",
            "pandas-stubs 2.0.3.230814 requires numpy>=1.25.0; python_version >= \"3.9\", but you have numpy 1.24.3 which is incompatible.\n",
            "pydantic 2.8.2 requires typing-extensions>=4.6.1; python_version < \"3.13\", but you have typing-extensions 4.5.0 which is incompatible.\n",
            "pydantic-core 2.20.1 requires typing-extensions!=4.7.0,>=4.6.0, but you have typing-extensions 4.5.0 which is incompatible.\n",
            "torch 2.3.1+cu121 requires typing-extensions>=4.8.0, but you have typing-extensions 4.5.0 which is incompatible.\n",
            "typeguard 4.3.0 requires typing-extensions>=4.10.0, but you have typing-extensions 4.5.0 which is incompatible.\u001b[0m\u001b[31m\n",
            "\u001b[0mSuccessfully installed gast-0.4.0 google-auth-oauthlib-1.0.0 keras-2.13.1 numpy-1.24.3 tensorboard-2.13.0 tensorflow-2.13.1 tensorflow-estimator-2.13.0 tensorflow-text-2.13.0 tf-keras-2.15.0 typing-extensions-4.5.0\n"
          ]
        },
        {
          "output_type": "display_data",
          "data": {
            "application/vnd.colab-display-data+json": {
              "pip_warning": {
                "packages": [
                  "numpy"
                ]
              },
              "id": "83115e6833c54d3e8a5ee05dcc3f8267"
            }
          },
          "metadata": {}
        }
      ],
      "source": [
        "!pip install -U \"tensorflow-text==2.13.*\""
      ]
    },
    {
      "cell_type": "code",
      "execution_count": 2,
      "metadata": {
        "colab": {
          "base_uri": "https://localhost:8080/"
        },
        "id": "1pu_wPUE40nV",
        "outputId": "7064d2bb-d44b-4fbc-f98b-216277161c3c"
      },
      "outputs": [
        {
          "output_type": "stream",
          "name": "stdout",
          "text": [
            "Collecting tf-models-official==2.13.*\n",
            "  Downloading tf_models_official-2.13.2-py2.py3-none-any.whl.metadata (1.4 kB)\n",
            "Requirement already satisfied: Cython in /usr/local/lib/python3.10/dist-packages (from tf-models-official==2.13.*) (3.0.10)\n",
            "Requirement already satisfied: Pillow in /usr/local/lib/python3.10/dist-packages (from tf-models-official==2.13.*) (9.4.0)\n",
            "Requirement already satisfied: gin-config in /usr/local/lib/python3.10/dist-packages (from tf-models-official==2.13.*) (0.5.0)\n",
            "Requirement already satisfied: google-api-python-client>=1.6.7 in /usr/local/lib/python3.10/dist-packages (from tf-models-official==2.13.*) (2.137.0)\n",
            "Requirement already satisfied: immutabledict in /usr/local/lib/python3.10/dist-packages (from tf-models-official==2.13.*) (4.2.0)\n",
            "Requirement already satisfied: kaggle>=1.3.9 in /usr/local/lib/python3.10/dist-packages (from tf-models-official==2.13.*) (1.6.14)\n",
            "Requirement already satisfied: matplotlib in /usr/local/lib/python3.10/dist-packages (from tf-models-official==2.13.*) (3.7.1)\n",
            "Requirement already satisfied: numpy>=1.20 in /usr/local/lib/python3.10/dist-packages (from tf-models-official==2.13.*) (1.24.3)\n",
            "Requirement already satisfied: oauth2client in /usr/local/lib/python3.10/dist-packages (from tf-models-official==2.13.*) (4.1.3)\n",
            "Requirement already satisfied: opencv-python-headless in /usr/local/lib/python3.10/dist-packages (from tf-models-official==2.13.*) (4.10.0.84)\n",
            "Requirement already satisfied: pandas>=0.22.0 in /usr/local/lib/python3.10/dist-packages (from tf-models-official==2.13.*) (2.0.3)\n",
            "Requirement already satisfied: psutil>=5.4.3 in /usr/local/lib/python3.10/dist-packages (from tf-models-official==2.13.*) (5.9.5)\n",
            "Requirement already satisfied: py-cpuinfo>=3.3.0 in /usr/local/lib/python3.10/dist-packages (from tf-models-official==2.13.*) (9.0.0)\n",
            "Requirement already satisfied: pycocotools in /usr/local/lib/python3.10/dist-packages (from tf-models-official==2.13.*) (2.0.8)\n",
            "Requirement already satisfied: pyyaml>=6.0.0 in /usr/local/lib/python3.10/dist-packages (from tf-models-official==2.13.*) (6.0.1)\n",
            "Collecting sacrebleu (from tf-models-official==2.13.*)\n",
            "  Downloading sacrebleu-2.4.2-py3-none-any.whl.metadata (58 kB)\n",
            "\u001b[?25l     \u001b[90m━━━━━━━━━━━━━━━━━━━━━━━━━━━━━━━━━━━━━━━━\u001b[0m \u001b[32m0.0/58.0 kB\u001b[0m \u001b[31m?\u001b[0m eta \u001b[36m-:--:--\u001b[0m\r\u001b[2K     \u001b[90m━━━━━━━━━━━━━━━━━━━━━━━━━━━━━━━━━━━━━━━━\u001b[0m \u001b[32m58.0/58.0 kB\u001b[0m \u001b[31m5.3 MB/s\u001b[0m eta \u001b[36m0:00:00\u001b[0m\n",
            "\u001b[?25hRequirement already satisfied: scipy>=0.19.1 in /usr/local/lib/python3.10/dist-packages (from tf-models-official==2.13.*) (1.13.1)\n",
            "Requirement already satisfied: sentencepiece in /usr/local/lib/python3.10/dist-packages (from tf-models-official==2.13.*) (0.1.99)\n",
            "Collecting seqeval (from tf-models-official==2.13.*)\n",
            "  Downloading seqeval-1.2.2.tar.gz (43 kB)\n",
            "\u001b[2K     \u001b[90m━━━━━━━━━━━━━━━━━━━━━━━━━━━━━━━━━━━━━━━━\u001b[0m \u001b[32m43.6/43.6 kB\u001b[0m \u001b[31m4.1 MB/s\u001b[0m eta \u001b[36m0:00:00\u001b[0m\n",
            "\u001b[?25h  Preparing metadata (setup.py) ... \u001b[?25l\u001b[?25hdone\n",
            "Requirement already satisfied: six in /usr/local/lib/python3.10/dist-packages (from tf-models-official==2.13.*) (1.16.0)\n",
            "Requirement already satisfied: tensorflow-datasets in /usr/local/lib/python3.10/dist-packages (from tf-models-official==2.13.*) (4.9.6)\n",
            "Requirement already satisfied: tensorflow-hub>=0.6.0 in /usr/local/lib/python3.10/dist-packages (from tf-models-official==2.13.*) (0.16.1)\n",
            "Collecting tensorflow-model-optimization>=0.4.1 (from tf-models-official==2.13.*)\n",
            "  Downloading tensorflow_model_optimization-0.8.0-py2.py3-none-any.whl.metadata (904 bytes)\n",
            "Requirement already satisfied: tensorflow-text~=2.13.0 in /usr/local/lib/python3.10/dist-packages (from tf-models-official==2.13.*) (2.13.0)\n",
            "Requirement already satisfied: tensorflow~=2.13.0 in /usr/local/lib/python3.10/dist-packages (from tf-models-official==2.13.*) (2.13.1)\n",
            "Requirement already satisfied: tf-slim>=1.1.0 in /usr/local/lib/python3.10/dist-packages (from tf-models-official==2.13.*) (1.1.0)\n",
            "Requirement already satisfied: httplib2<1.dev0,>=0.19.0 in /usr/local/lib/python3.10/dist-packages (from google-api-python-client>=1.6.7->tf-models-official==2.13.*) (0.22.0)\n",
            "Requirement already satisfied: google-auth!=2.24.0,!=2.25.0,<3.0.0.dev0,>=1.32.0 in /usr/local/lib/python3.10/dist-packages (from google-api-python-client>=1.6.7->tf-models-official==2.13.*) (2.27.0)\n",
            "Requirement already satisfied: google-auth-httplib2<1.0.0,>=0.2.0 in /usr/local/lib/python3.10/dist-packages (from google-api-python-client>=1.6.7->tf-models-official==2.13.*) (0.2.0)\n",
            "Requirement already satisfied: google-api-core!=2.0.*,!=2.1.*,!=2.2.*,!=2.3.0,<3.0.0.dev0,>=1.31.5 in /usr/local/lib/python3.10/dist-packages (from google-api-python-client>=1.6.7->tf-models-official==2.13.*) (2.19.1)\n",
            "Requirement already satisfied: uritemplate<5,>=3.0.1 in /usr/local/lib/python3.10/dist-packages (from google-api-python-client>=1.6.7->tf-models-official==2.13.*) (4.1.1)\n",
            "Requirement already satisfied: certifi>=2023.7.22 in /usr/local/lib/python3.10/dist-packages (from kaggle>=1.3.9->tf-models-official==2.13.*) (2024.7.4)\n",
            "Requirement already satisfied: python-dateutil in /usr/local/lib/python3.10/dist-packages (from kaggle>=1.3.9->tf-models-official==2.13.*) (2.8.2)\n",
            "Requirement already satisfied: requests in /usr/local/lib/python3.10/dist-packages (from kaggle>=1.3.9->tf-models-official==2.13.*) (2.31.0)\n",
            "Requirement already satisfied: tqdm in /usr/local/lib/python3.10/dist-packages (from kaggle>=1.3.9->tf-models-official==2.13.*) (4.66.4)\n",
            "Requirement already satisfied: python-slugify in /usr/local/lib/python3.10/dist-packages (from kaggle>=1.3.9->tf-models-official==2.13.*) (8.0.4)\n",
            "Requirement already satisfied: urllib3 in /usr/local/lib/python3.10/dist-packages (from kaggle>=1.3.9->tf-models-official==2.13.*) (2.0.7)\n",
            "Requirement already satisfied: bleach in /usr/local/lib/python3.10/dist-packages (from kaggle>=1.3.9->tf-models-official==2.13.*) (6.1.0)\n",
            "Requirement already satisfied: pytz>=2020.1 in /usr/local/lib/python3.10/dist-packages (from pandas>=0.22.0->tf-models-official==2.13.*) (2024.1)\n",
            "Requirement already satisfied: tzdata>=2022.1 in /usr/local/lib/python3.10/dist-packages (from pandas>=0.22.0->tf-models-official==2.13.*) (2024.1)\n",
            "Requirement already satisfied: absl-py>=1.0.0 in /usr/local/lib/python3.10/dist-packages (from tensorflow~=2.13.0->tf-models-official==2.13.*) (1.4.0)\n",
            "Requirement already satisfied: astunparse>=1.6.0 in /usr/local/lib/python3.10/dist-packages (from tensorflow~=2.13.0->tf-models-official==2.13.*) (1.6.3)\n",
            "Requirement already satisfied: flatbuffers>=23.1.21 in /usr/local/lib/python3.10/dist-packages (from tensorflow~=2.13.0->tf-models-official==2.13.*) (24.3.25)\n",
            "Requirement already satisfied: gast<=0.4.0,>=0.2.1 in /usr/local/lib/python3.10/dist-packages (from tensorflow~=2.13.0->tf-models-official==2.13.*) (0.4.0)\n",
            "Requirement already satisfied: google-pasta>=0.1.1 in /usr/local/lib/python3.10/dist-packages (from tensorflow~=2.13.0->tf-models-official==2.13.*) (0.2.0)\n",
            "Requirement already satisfied: grpcio<2.0,>=1.24.3 in /usr/local/lib/python3.10/dist-packages (from tensorflow~=2.13.0->tf-models-official==2.13.*) (1.64.1)\n",
            "Requirement already satisfied: h5py>=2.9.0 in /usr/local/lib/python3.10/dist-packages (from tensorflow~=2.13.0->tf-models-official==2.13.*) (3.11.0)\n",
            "Requirement already satisfied: keras<2.14,>=2.13.1 in /usr/local/lib/python3.10/dist-packages (from tensorflow~=2.13.0->tf-models-official==2.13.*) (2.13.1)\n",
            "Requirement already satisfied: libclang>=13.0.0 in /usr/local/lib/python3.10/dist-packages (from tensorflow~=2.13.0->tf-models-official==2.13.*) (18.1.1)\n",
            "Requirement already satisfied: opt-einsum>=2.3.2 in /usr/local/lib/python3.10/dist-packages (from tensorflow~=2.13.0->tf-models-official==2.13.*) (3.3.0)\n",
            "Requirement already satisfied: packaging in /usr/local/lib/python3.10/dist-packages (from tensorflow~=2.13.0->tf-models-official==2.13.*) (24.1)\n",
            "Requirement already satisfied: protobuf!=4.21.0,!=4.21.1,!=4.21.2,!=4.21.3,!=4.21.4,!=4.21.5,<5.0.0dev,>=3.20.3 in /usr/local/lib/python3.10/dist-packages (from tensorflow~=2.13.0->tf-models-official==2.13.*) (3.20.3)\n",
            "Requirement already satisfied: setuptools in /usr/local/lib/python3.10/dist-packages (from tensorflow~=2.13.0->tf-models-official==2.13.*) (71.0.4)\n",
            "Requirement already satisfied: tensorboard<2.14,>=2.13 in /usr/local/lib/python3.10/dist-packages (from tensorflow~=2.13.0->tf-models-official==2.13.*) (2.13.0)\n",
            "Requirement already satisfied: tensorflow-estimator<2.14,>=2.13.0 in /usr/local/lib/python3.10/dist-packages (from tensorflow~=2.13.0->tf-models-official==2.13.*) (2.13.0)\n",
            "Requirement already satisfied: termcolor>=1.1.0 in /usr/local/lib/python3.10/dist-packages (from tensorflow~=2.13.0->tf-models-official==2.13.*) (2.4.0)\n",
            "Requirement already satisfied: typing-extensions<4.6.0,>=3.6.6 in /usr/local/lib/python3.10/dist-packages (from tensorflow~=2.13.0->tf-models-official==2.13.*) (4.5.0)\n",
            "Requirement already satisfied: wrapt>=1.11.0 in /usr/local/lib/python3.10/dist-packages (from tensorflow~=2.13.0->tf-models-official==2.13.*) (1.14.1)\n",
            "Requirement already satisfied: tensorflow-io-gcs-filesystem>=0.23.1 in /usr/local/lib/python3.10/dist-packages (from tensorflow~=2.13.0->tf-models-official==2.13.*) (0.37.1)\n",
            "Requirement already satisfied: tf-keras>=2.14.1 in /usr/local/lib/python3.10/dist-packages (from tensorflow-hub>=0.6.0->tf-models-official==2.13.*) (2.15.0)\n",
            "Requirement already satisfied: dm-tree~=0.1.1 in /usr/local/lib/python3.10/dist-packages (from tensorflow-model-optimization>=0.4.1->tf-models-official==2.13.*) (0.1.8)\n",
            "Requirement already satisfied: contourpy>=1.0.1 in /usr/local/lib/python3.10/dist-packages (from matplotlib->tf-models-official==2.13.*) (1.2.1)\n",
            "Requirement already satisfied: cycler>=0.10 in /usr/local/lib/python3.10/dist-packages (from matplotlib->tf-models-official==2.13.*) (0.12.1)\n",
            "Requirement already satisfied: fonttools>=4.22.0 in /usr/local/lib/python3.10/dist-packages (from matplotlib->tf-models-official==2.13.*) (4.53.1)\n",
            "Requirement already satisfied: kiwisolver>=1.0.1 in /usr/local/lib/python3.10/dist-packages (from matplotlib->tf-models-official==2.13.*) (1.4.5)\n",
            "Requirement already satisfied: pyparsing>=2.3.1 in /usr/local/lib/python3.10/dist-packages (from matplotlib->tf-models-official==2.13.*) (3.1.2)\n",
            "Requirement already satisfied: pyasn1>=0.1.7 in /usr/local/lib/python3.10/dist-packages (from oauth2client->tf-models-official==2.13.*) (0.6.0)\n",
            "Requirement already satisfied: pyasn1-modules>=0.0.5 in /usr/local/lib/python3.10/dist-packages (from oauth2client->tf-models-official==2.13.*) (0.4.0)\n",
            "Requirement already satisfied: rsa>=3.1.4 in /usr/local/lib/python3.10/dist-packages (from oauth2client->tf-models-official==2.13.*) (4.9)\n",
            "Collecting portalocker (from sacrebleu->tf-models-official==2.13.*)\n",
            "  Downloading portalocker-2.10.1-py3-none-any.whl.metadata (8.5 kB)\n",
            "Requirement already satisfied: regex in /usr/local/lib/python3.10/dist-packages (from sacrebleu->tf-models-official==2.13.*) (2024.5.15)\n",
            "Requirement already satisfied: tabulate>=0.8.9 in /usr/local/lib/python3.10/dist-packages (from sacrebleu->tf-models-official==2.13.*) (0.9.0)\n",
            "Collecting colorama (from sacrebleu->tf-models-official==2.13.*)\n",
            "  Downloading colorama-0.4.6-py2.py3-none-any.whl.metadata (17 kB)\n",
            "Requirement already satisfied: lxml in /usr/local/lib/python3.10/dist-packages (from sacrebleu->tf-models-official==2.13.*) (4.9.4)\n",
            "Requirement already satisfied: scikit-learn>=0.21.3 in /usr/local/lib/python3.10/dist-packages (from seqeval->tf-models-official==2.13.*) (1.3.2)\n",
            "Requirement already satisfied: click in /usr/local/lib/python3.10/dist-packages (from tensorflow-datasets->tf-models-official==2.13.*) (8.1.7)\n",
            "Requirement already satisfied: promise in /usr/local/lib/python3.10/dist-packages (from tensorflow-datasets->tf-models-official==2.13.*) (2.3)\n",
            "Requirement already satisfied: pyarrow in /usr/local/lib/python3.10/dist-packages (from tensorflow-datasets->tf-models-official==2.13.*) (14.0.2)\n",
            "Requirement already satisfied: simple-parsing in /usr/local/lib/python3.10/dist-packages (from tensorflow-datasets->tf-models-official==2.13.*) (0.1.5)\n",
            "Requirement already satisfied: tensorflow-metadata in /usr/local/lib/python3.10/dist-packages (from tensorflow-datasets->tf-models-official==2.13.*) (1.15.0)\n",
            "Requirement already satisfied: toml in /usr/local/lib/python3.10/dist-packages (from tensorflow-datasets->tf-models-official==2.13.*) (0.10.2)\n",
            "Requirement already satisfied: array-record>=0.5.0 in /usr/local/lib/python3.10/dist-packages (from tensorflow-datasets->tf-models-official==2.13.*) (0.5.1)\n",
            "Requirement already satisfied: etils>=1.6.0 in /usr/local/lib/python3.10/dist-packages (from etils[enp,epath,epy,etree]>=1.6.0; python_version < \"3.11\"->tensorflow-datasets->tf-models-official==2.13.*) (1.7.0)\n",
            "Requirement already satisfied: wheel<1.0,>=0.23.0 in /usr/local/lib/python3.10/dist-packages (from astunparse>=1.6.0->tensorflow~=2.13.0->tf-models-official==2.13.*) (0.43.0)\n",
            "Requirement already satisfied: fsspec in /usr/local/lib/python3.10/dist-packages (from etils[enp,epath,epy,etree]>=1.6.0; python_version < \"3.11\"->tensorflow-datasets->tf-models-official==2.13.*) (2024.6.1)\n",
            "Requirement already satisfied: importlib_resources in /usr/local/lib/python3.10/dist-packages (from etils[enp,epath,epy,etree]>=1.6.0; python_version < \"3.11\"->tensorflow-datasets->tf-models-official==2.13.*) (6.4.0)\n",
            "Requirement already satisfied: zipp in /usr/local/lib/python3.10/dist-packages (from etils[enp,epath,epy,etree]>=1.6.0; python_version < \"3.11\"->tensorflow-datasets->tf-models-official==2.13.*) (3.19.2)\n",
            "Requirement already satisfied: googleapis-common-protos<2.0.dev0,>=1.56.2 in /usr/local/lib/python3.10/dist-packages (from google-api-core!=2.0.*,!=2.1.*,!=2.2.*,!=2.3.0,<3.0.0.dev0,>=1.31.5->google-api-python-client>=1.6.7->tf-models-official==2.13.*) (1.63.2)\n",
            "Requirement already satisfied: proto-plus<2.0.0dev,>=1.22.3 in /usr/local/lib/python3.10/dist-packages (from google-api-core!=2.0.*,!=2.1.*,!=2.2.*,!=2.3.0,<3.0.0.dev0,>=1.31.5->google-api-python-client>=1.6.7->tf-models-official==2.13.*) (1.24.0)\n",
            "Requirement already satisfied: cachetools<6.0,>=2.0.0 in /usr/local/lib/python3.10/dist-packages (from google-auth!=2.24.0,!=2.25.0,<3.0.0.dev0,>=1.32.0->google-api-python-client>=1.6.7->tf-models-official==2.13.*) (5.4.0)\n",
            "Requirement already satisfied: charset-normalizer<4,>=2 in /usr/local/lib/python3.10/dist-packages (from requests->kaggle>=1.3.9->tf-models-official==2.13.*) (3.3.2)\n",
            "Requirement already satisfied: idna<4,>=2.5 in /usr/local/lib/python3.10/dist-packages (from requests->kaggle>=1.3.9->tf-models-official==2.13.*) (3.7)\n",
            "Requirement already satisfied: joblib>=1.1.1 in /usr/local/lib/python3.10/dist-packages (from scikit-learn>=0.21.3->seqeval->tf-models-official==2.13.*) (1.4.2)\n",
            "Requirement already satisfied: threadpoolctl>=2.0.0 in /usr/local/lib/python3.10/dist-packages (from scikit-learn>=0.21.3->seqeval->tf-models-official==2.13.*) (3.5.0)\n",
            "Requirement already satisfied: google-auth-oauthlib<1.1,>=0.5 in /usr/local/lib/python3.10/dist-packages (from tensorboard<2.14,>=2.13->tensorflow~=2.13.0->tf-models-official==2.13.*) (1.0.0)\n",
            "Requirement already satisfied: markdown>=2.6.8 in /usr/local/lib/python3.10/dist-packages (from tensorboard<2.14,>=2.13->tensorflow~=2.13.0->tf-models-official==2.13.*) (3.6)\n",
            "Requirement already satisfied: tensorboard-data-server<0.8.0,>=0.7.0 in /usr/local/lib/python3.10/dist-packages (from tensorboard<2.14,>=2.13->tensorflow~=2.13.0->tf-models-official==2.13.*) (0.7.2)\n",
            "Requirement already satisfied: werkzeug>=1.0.1 in /usr/local/lib/python3.10/dist-packages (from tensorboard<2.14,>=2.13->tensorflow~=2.13.0->tf-models-official==2.13.*) (3.0.3)\n",
            "Requirement already satisfied: webencodings in /usr/local/lib/python3.10/dist-packages (from bleach->kaggle>=1.3.9->tf-models-official==2.13.*) (0.5.1)\n",
            "Requirement already satisfied: text-unidecode>=1.3 in /usr/local/lib/python3.10/dist-packages (from python-slugify->kaggle>=1.3.9->tf-models-official==2.13.*) (1.3)\n",
            "Requirement already satisfied: docstring-parser~=0.15 in /usr/local/lib/python3.10/dist-packages (from simple-parsing->tensorflow-datasets->tf-models-official==2.13.*) (0.16)\n",
            "Requirement already satisfied: requests-oauthlib>=0.7.0 in /usr/local/lib/python3.10/dist-packages (from google-auth-oauthlib<1.1,>=0.5->tensorboard<2.14,>=2.13->tensorflow~=2.13.0->tf-models-official==2.13.*) (1.3.1)\n",
            "Requirement already satisfied: MarkupSafe>=2.1.1 in /usr/local/lib/python3.10/dist-packages (from werkzeug>=1.0.1->tensorboard<2.14,>=2.13->tensorflow~=2.13.0->tf-models-official==2.13.*) (2.1.5)\n",
            "Requirement already satisfied: oauthlib>=3.0.0 in /usr/local/lib/python3.10/dist-packages (from requests-oauthlib>=0.7.0->google-auth-oauthlib<1.1,>=0.5->tensorboard<2.14,>=2.13->tensorflow~=2.13.0->tf-models-official==2.13.*) (3.2.2)\n",
            "Downloading tf_models_official-2.13.2-py2.py3-none-any.whl (2.6 MB)\n",
            "\u001b[2K   \u001b[90m━━━━━━━━━━━━━━━━━━━━━━━━━━━━━━━━━━━━━━━━\u001b[0m \u001b[32m2.6/2.6 MB\u001b[0m \u001b[31m54.3 MB/s\u001b[0m eta \u001b[36m0:00:00\u001b[0m\n",
            "\u001b[?25hDownloading tensorflow_model_optimization-0.8.0-py2.py3-none-any.whl (242 kB)\n",
            "\u001b[2K   \u001b[90m━━━━━━━━━━━━━━━━━━━━━━━━━━━━━━━━━━━━━━━━\u001b[0m \u001b[32m242.5/242.5 kB\u001b[0m \u001b[31m19.9 MB/s\u001b[0m eta \u001b[36m0:00:00\u001b[0m\n",
            "\u001b[?25hDownloading sacrebleu-2.4.2-py3-none-any.whl (106 kB)\n",
            "\u001b[2K   \u001b[90m━━━━━━━━━━━━━━━━━━━━━━━━━━━━━━━━━━━━━━━━\u001b[0m \u001b[32m106.7/106.7 kB\u001b[0m \u001b[31m10.6 MB/s\u001b[0m eta \u001b[36m0:00:00\u001b[0m\n",
            "\u001b[?25hDownloading colorama-0.4.6-py2.py3-none-any.whl (25 kB)\n",
            "Downloading portalocker-2.10.1-py3-none-any.whl (18 kB)\n",
            "Building wheels for collected packages: seqeval\n",
            "  Building wheel for seqeval (setup.py) ... \u001b[?25l\u001b[?25hdone\n",
            "  Created wheel for seqeval: filename=seqeval-1.2.2-py3-none-any.whl size=16162 sha256=4eeaccf910f39cda8995c32b441152b430fc17e2399e306419c4c5da59f0373a\n",
            "  Stored in directory: /root/.cache/pip/wheels/1a/67/4a/ad4082dd7dfc30f2abfe4d80a2ed5926a506eb8a972b4767fa\n",
            "Successfully built seqeval\n",
            "Installing collected packages: tensorflow-model-optimization, portalocker, colorama, sacrebleu, seqeval, tf-models-official\n",
            "Successfully installed colorama-0.4.6 portalocker-2.10.1 sacrebleu-2.4.2 seqeval-1.2.2 tensorflow-model-optimization-0.8.0 tf-models-official-2.13.2\n"
          ]
        }
      ],
      "source": [
        "!pip install \"tf-models-official==2.13.*\""
      ]
    },
    {
      "cell_type": "code",
      "execution_count": 3,
      "metadata": {
        "colab": {
          "base_uri": "https://localhost:8080/"
        },
        "id": "idk_f6ZHSLSa",
        "outputId": "b085a52a-181d-4249-8a18-a972ac2b30a2"
      },
      "outputs": [
        {
          "output_type": "stream",
          "name": "stdout",
          "text": [
            "Requirement already satisfied: pydot in /usr/local/lib/python3.10/dist-packages (1.4.2)\n",
            "Requirement already satisfied: pyparsing>=2.1.4 in /usr/local/lib/python3.10/dist-packages (from pydot) (3.1.2)\n"
          ]
        }
      ],
      "source": [
        "!pip install pydot"
      ]
    },
    {
      "cell_type": "code",
      "execution_count": 4,
      "metadata": {
        "colab": {
          "base_uri": "https://localhost:8080/"
        },
        "id": "sa8-tA8dSIgM",
        "outputId": "de74b26b-d83c-406c-938a-195275d5a54c"
      },
      "outputs": [
        {
          "output_type": "stream",
          "name": "stdout",
          "text": [
            "Requirement already satisfied: graphviz in /usr/local/lib/python3.10/dist-packages (0.20.3)\n"
          ]
        }
      ],
      "source": [
        "!pip install graphviz"
      ]
    },
    {
      "cell_type": "markdown",
      "metadata": {
        "id": "gvaUOpoSDEyV"
      },
      "source": [
        "#Download the IMDB dataset"
      ]
    },
    {
      "cell_type": "code",
      "execution_count": 2,
      "metadata": {
        "id": "_eTCmkb-49u4"
      },
      "outputs": [],
      "source": [
        "import os\n",
        "import shutil #high-level file operations module.\n",
        "\n",
        "import tensorflow as tf\n",
        "import tensorflow_hub as hub\n",
        "import tensorflow_text as text\n",
        "from official.nlp import optimization  # to create AdamW optimizer\n",
        "\n",
        "import matplotlib.pyplot as plt\n",
        "\n",
        "tf.get_logger().setLevel('ERROR')"
      ]
    },
    {
      "cell_type": "code",
      "execution_count": 3,
      "metadata": {
        "colab": {
          "base_uri": "https://localhost:8080/"
        },
        "id": "Yv2GFCnqBuy2",
        "outputId": "2058a407-325f-4f5b-fc4a-2510e1de98bf"
      },
      "outputs": [
        {
          "output_type": "stream",
          "name": "stdout",
          "text": [
            "Downloading data from https://ai.stanford.edu/~amaas/data/sentiment/aclImdb_v1.tar.gz\n",
            "84125825/84125825 [==============================] - 13s 0us/step\n"
          ]
        }
      ],
      "source": [
        "url = 'https://ai.stanford.edu/~amaas/data/sentiment/aclImdb_v1.tar.gz'\n",
        "\n",
        "dataset = tf.keras.utils.get_file('aclImdb_v1.tar.gz', url,\n",
        "                                  untar=True, cache_dir='.',\n",
        "                                  cache_subdir='')\n",
        "\n",
        "dataset_dir = os.path.join(os.path.dirname(dataset), 'aclImdb')\n",
        "\n",
        "train_dir = os.path.join(dataset_dir, 'train')\n",
        "\n",
        "# remove unused folders to make it easier to load the data\n",
        "remove_dir = os.path.join(train_dir, 'unsup')\n",
        "shutil.rmtree(remove_dir)"
      ]
    },
    {
      "cell_type": "code",
      "execution_count": 4,
      "metadata": {
        "colab": {
          "base_uri": "https://localhost:8080/"
        },
        "id": "wVDB4W49DKiA",
        "outputId": "0abb29f7-34f2-4a59-d384-29cb39d061ef"
      },
      "outputs": [
        {
          "output_type": "stream",
          "name": "stdout",
          "text": [
            "Found 25000 files belonging to 2 classes.\n",
            "Using 20000 files for training.\n",
            "Found 25000 files belonging to 2 classes.\n",
            "Using 5000 files for validation.\n",
            "Found 25000 files belonging to 2 classes.\n"
          ]
        }
      ],
      "source": [
        "AUTOTUNE = tf.data.AUTOTUNE\n",
        "batch_size = 32\n",
        "rand = 1\n",
        "\n",
        "raw_train_ds = tf.keras.utils.text_dataset_from_directory(\n",
        "    'aclImdb/train',\n",
        "    batch_size=batch_size,\n",
        "    validation_split=0.2,\n",
        "    subset='training',\n",
        "    seed=rand)\n",
        "\n",
        "class_names = raw_train_ds.class_names\n",
        "train_ds = raw_train_ds.cache().prefetch(buffer_size=AUTOTUNE)\n",
        "\n",
        "raw_val_ds = tf.keras.utils.text_dataset_from_directory(\n",
        "    'aclImdb/train',\n",
        "    batch_size=batch_size,\n",
        "    validation_split=0.2,\n",
        "    subset='validation',\n",
        "    seed=rand)\n",
        "\n",
        "val_ds = raw_val_ds.cache().prefetch(buffer_size=AUTOTUNE)\n",
        "\n",
        "raw_test_ds = tf.keras.utils.text_dataset_from_directory(\n",
        "    'aclImdb/test',\n",
        "    batch_size=batch_size)\n",
        "\n",
        "test_ds = raw_test_ds.cache().prefetch(buffer_size=AUTOTUNE)"
      ]
    },
    {
      "cell_type": "code",
      "execution_count": 5,
      "metadata": {
        "colab": {
          "base_uri": "https://localhost:8080/"
        },
        "id": "0h_2G79kD7rq",
        "outputId": "bed5b0e8-c9c2-4610-a612-4994e3c8eabf"
      },
      "outputs": [
        {
          "output_type": "stream",
          "name": "stdout",
          "text": [
            "Review: b'Stupid and just plain weird movie about some kid who becomes traumatized when he finds out Santa isn\\'t real (???). He grows up and becomes an adult (Brandon Maggart) who makes lists of people who are naughty or nice. One Christmas he snaps and sets out to kill the naughty people--dressed as Santa of course.<br /><br />Boring and just plain bad killer Santa movie. If you\\'re looking for gore, it\\'s not here. Only a few of the murders are shown and they\\'re not that gory with VERY fake effects. Most of the movie just contains Brandon Maggart talking to himself and slowly going crazy. The script is trite, the acting is terrible and it leads to an ending which had me staring slack-jawed at the TV. Seriously, I had to rewind the tape and watch it again to make sure I wasn\\'t hallucinating! Really REALLY poor ending.<br /><br />If you want a scary Christmas flick rent \"Black Christmas\" (the original 70s version---NOT the terrible remake). Avoid this one at all costs.'\n",
            "Label : 0 (neg)\n",
            "Review: b'Well, I just discovered that there is a show more disgusting and shocking than \"Little Britain\" and I like it! \"The League of Gentlemen\" is a sick British comedy that is about the most awful, insane and disgusting small town in all the UK. This place makes Dibley and Craggy Island (from \"The Vicar of Dibley\" and \"Father Ted\") seem pretty normal!! The format of the show is a lot like LITTLE Britain except that all of it centers around the townspeople of this one hellish town. Both shows feature the same skits again and again every episode and some obviously inspired \"Little Britain\" (particularly the job seeking class skit). But the show differs because although it is crude like \"Little Britain\" (hence not a show for kids), the show has a sick and sadistic quality that sets it apart from all these shows. In particular, animal cruelty and serial killing are recurring themes throughout the show.<br /><br />Now if you haven\\'t guessed, this is NOT a show for kids, the easily offended or normal people and that\\'s probably why I liked it. However, you really do need very thick skin and a love of the awful to enjoy this to the max. Funny and incredibly irreverent beyond belief--you have to see it to believe it.'\n",
            "Label : 1 (pos)\n",
            "Review: b\"I really looked forward to seeing Nana after seeing Renoir amazing debut work, Whirlpool of Fate. I had read that Nana was generally considered his best silent film so I had high hopes. Sadly this felt like a huge step backwards.<br /><br />Catherine Hessling is the main problem with this film. Her acting is over the top, even for a silent film. Her acting is more like what one would expect in a film from the early teens, not the late 20s. She usually has the same face, which reminds me (sorry to say) of someone with constipation pains. It was also very difficult to believe that any man would fall for this femme fatale. There was nothing charming about her at all.<br /><br />The film was also quite long drawn, the camera work was uninteresting (aside from a shot of a horse race) and the editing was dull. The story reminded me of Pabst's Pandora's Box. It is interesting to compare the two because there are only 3 years between these films. Pandora's Box simply scores on every level where Nana fails.<br /><br />This film is only for Renoir completists or very serious silent films buffs.\"\n",
            "Label : 0 (neg)\n",
            "Review: b'The John Van Druten Broadway hit is brought to the screen with a maximum of star power in this romantic fantasy about a modern-day witch who beguiles a successful Manhattan publisher. James Stewart may get top billing, but it is Kim Novak who steals the show as one of the most alluring witches ever to cast a spell on the movie screen. The lead pairing is, in fact, one of the movie\\'s few weaknesses: the gray-haired Stewart seems a bit old for the role, and while it is easy to see why he falls hard for Novak, it\\'s a little harder to understand what she finds attractive about him, as they seem mismatched in temperment and outlook. (It is one of the story\\'s amusing conceits that witches and warlocks are portrayed as Greenwich Village beatniks and bohemians.) Curiously, the Stewart-Novak pairing would generate a lot more heat in \"Vertigo\", released the same year as this film, but then \"Vertigo\" had a compelling suspense story, and the benefit of Alfred Hitchcock\\'s direction.<br /><br />The film\\'s comic moments are mostly provided by the stellar supporting cast, including a young Jack Lemmon (as Kim\\'s warlock brother), Elsa Lanchester (their ditzy aunt), and Ernie Kovacs (!) as a befuddled writer. Hermione Gingold even shows up in a hilarious cameo as a sort of Grand Witch. There\\'s lots to like in this movie--wit, romance, and a great cast--that is, if you can possibly take your eyes off the enchanting Miss Novak. I have seen the movie a half a dozen times, and I never can.'\n",
            "Label : 1 (pos)\n",
            "Review: b'Avoid this crap at all costs. Bad script, bad directing, bad acting, bad editing, bad sound, and bad music. Get the idea? This movie tries to be western flavored, it\\'s not. It tries to be hard core violent, it\\'s not. It tries to present a fresh look at an old genre, it doesn\\'t. The actors try there best, and my heart goes out to them. But with such inane material to work with it\\'s hard to make something shine. To me this has all of the looks of a \"fresh outta film school gonna set the world on fire\" first attempt. Freshmen film makers often bite off more that they, or their budget, can chew. The best thing they can do is to take a few steps back, reassess what is possible, and work within their limited budget the next time out.'\n",
            "Label : 0 (neg)\n"
          ]
        }
      ],
      "source": [
        "for text_batch, label_batch in train_ds.take(1):\n",
        "  for i in range(5):\n",
        "    print(f'Review: {text_batch.numpy()[i]}')\n",
        "    label = label_batch.numpy()[i]\n",
        "    print(f'Label : {label} ({class_names[label]})')"
      ]
    },
    {
      "cell_type": "code",
      "execution_count": 6,
      "metadata": {
        "id": "LmLvAbPrGrVc"
      },
      "outputs": [],
      "source": [
        "tfhub_encoder = 'https://tfhub.dev/tensorflow/small_bert/bert_en_uncased_L-2_H-128_A-2/1'\n",
        "tfhub_preprocess = 'https://tfhub.dev/tensorflow/bert_en_uncased_preprocess/3'"
      ]
    },
    {
      "cell_type": "markdown",
      "metadata": {
        "id": "Scv02ph9PlEU"
      },
      "source": [
        "#preprocessing"
      ]
    },
    {
      "cell_type": "code",
      "execution_count": 7,
      "metadata": {
        "id": "3PfnTubsHhhs"
      },
      "outputs": [],
      "source": [
        "bert_preprocess_model = hub.KerasLayer(tfhub_preprocess)"
      ]
    },
    {
      "cell_type": "code",
      "execution_count": 8,
      "metadata": {
        "colab": {
          "base_uri": "https://localhost:8080/"
        },
        "id": "brI3UtGsHta6",
        "outputId": "cd23a65f-6354-4571-a4a1-106b516742db"
      },
      "outputs": [
        {
          "output_type": "stream",
          "name": "stdout",
          "text": [
            "Enter a text for preprocessing:\tIt is one of the worst movie\n",
            "Keys       : ['input_type_ids', 'input_mask', 'input_word_ids']\n",
            "Shape      : (1, 128)\n",
            "Word Ids   : [ 101 2009 2003 2028 1997 1996 5409]\n",
            "Input Mask : [1 1 1 1 1 1 1]\n",
            "Type Ids   : [0 0 0 0 0 0 0]\n"
          ]
        }
      ],
      "source": [
        "text_test = [input(\"Enter a text for preprocessing:\\t\")]\n",
        "text_preprocessed = bert_preprocess_model(text_test)\n",
        "\n",
        "print(f'Keys       : {list(text_preprocessed.keys())}')\n",
        "print(f'Shape      : {text_preprocessed[\"input_word_ids\"].shape}')  #input shape according to model\n",
        "print(f'Word Ids   : {text_preprocessed[\"input_word_ids\"][0, :len(text_test[0].split())]}')\n",
        "print(f'Input Mask : {text_preprocessed[\"input_mask\"][0, :len(text_test[0].split())]}') #mark text presence\n",
        "print(f'Type Ids   : {text_preprocessed[\"input_type_ids\"][0, :len(text_test[0].split())]}') #marks when a sentence ends"
      ]
    },
    {
      "cell_type": "markdown",
      "metadata": {
        "id": "yzO6-CeVPppm"
      },
      "source": [
        "#Embedding"
      ]
    },
    {
      "cell_type": "code",
      "execution_count": 9,
      "metadata": {
        "id": "Yf3ux4HgHJUE"
      },
      "outputs": [],
      "source": [
        "bert_model = hub.KerasLayer(tfhub_encoder)"
      ]
    },
    {
      "cell_type": "code",
      "execution_count": 10,
      "metadata": {
        "colab": {
          "base_uri": "https://localhost:8080/"
        },
        "id": "_SMifyTfHMza",
        "outputId": "93a7dad0-3803-4cec-e70a-1bf2a0408ea8"
      },
      "outputs": [
        {
          "output_type": "stream",
          "name": "stdout",
          "text": [
            "Loaded BERT: https://tfhub.dev/tensorflow/small_bert/bert_en_uncased_L-2_H-128_A-2/1\n",
            "Pooled Outputs Shape:(1, 128)\n",
            "Pooled Outputs Values:[-0.999997    0.04573379 -0.9993469   0.99406207 -0.9995546   0.8196902\n",
            " -0.99022454]\n",
            "Sequence Outputs Shape:(1, 128, 128)\n",
            "Sequence Outputs Values:[[ 5.1659301e-02 -1.1232814e+00 -3.2931139e+00 -2.1068983e+00\n",
            "   3.1531048e-01  2.7996057e-01 -1.5314261e+00  1.3699700e+00\n",
            "  -5.8439845e-01  2.1765058e+00 -5.2431822e-01 -1.1242403e-01\n",
            "  -1.5097562e+00  8.4143209e-01  1.0379030e+00 -1.4127659e+00\n",
            "  -2.7298418e-01 -9.7867727e-02 -1.1528499e+00  1.2436817e+00\n",
            "  -1.8175564e+00 -1.2195127e+00  2.4373512e+00  4.2754999e-01\n",
            "   1.1146907e+00 -2.3616533e-01  1.4418637e+00  9.9999674e-02\n",
            "  -6.6876066e-01  1.0152659e-01 -1.9129623e+00 -9.4280916e-01\n",
            "  -1.7845430e+00  1.2178779e+00  5.9632335e-02 -1.2035433e+00\n",
            "   1.1244136e+00  4.0763505e-02 -9.0279436e-01 -7.0360041e-01\n",
            "   8.2188928e-01  1.2942293e-01  2.0933299e+00  1.9853260e-01\n",
            "  -8.6379147e-01 -2.9603162e+00  4.6913922e-02  9.0402693e-01\n",
            "   2.9755044e-01 -1.5792058e-01  1.2585061e+00  3.9101303e-01\n",
            "   1.0811374e+00 -5.6443256e-01 -8.9284080e-01 -5.7063127e-01\n",
            "   5.4541945e-01 -3.8312948e-01  4.8965111e-02  1.6524234e+00\n",
            "   1.6734914e-01 -1.5406411e+00 -1.2859612e+00 -1.1944588e+00\n",
            "  -1.1606052e+00  2.4170313e+00 -2.6363361e-01  1.2939215e-02\n",
            "   8.0878389e-01 -3.3796060e-01 -8.7449813e-01 -9.3719268e-01\n",
            "   5.4375553e-01  1.0247816e+00 -1.2835039e+00 -5.2467334e-01\n",
            "   4.9623030e-01  9.1679025e-01  1.9808874e+00  1.1883709e+00\n",
            "   9.6176296e-01 -1.6663571e-01 -3.6749926e-01  7.1927929e-01\n",
            "  -3.8907272e-01  4.1191286e-01 -2.1834059e+00 -4.8732743e-01\n",
            "   1.9660040e+00  2.4487752e-01  1.4337075e+00 -1.3188779e-02\n",
            "  -1.3978703e+00  1.2753881e+00  1.7185905e+00  1.1074499e+00\n",
            "   1.4909749e-01 -3.7317902e-01 -6.1134022e-01  1.0661762e+00\n",
            "  -8.1601597e-02 -7.8061181e-01  7.1409321e-01  8.9453846e-02\n",
            "   3.5902178e-01 -2.0484858e+00 -7.6597071e-01  1.1213919e+00\n",
            "   2.7046198e-01 -9.8973817e-01 -4.5772940e-01  6.7790532e-01\n",
            "   7.3728549e-01 -2.1784648e-02 -8.8648087e-01  7.1304363e-01\n",
            "  -4.4229698e-01 -5.3345203e-01  7.1598142e-01 -1.0420694e+00\n",
            "  -3.7711215e-01  8.7168586e-01  1.3118242e-01  3.0903298e-01\n",
            "  -2.3245356e+00 -4.2359629e-01 -1.8942740e+00  4.0700674e-01]\n",
            " [-9.6188557e-01  1.1057215e-02 -3.8363692e-01 -1.8627467e+00\n",
            "   1.3613483e-01 -4.4370121e-01 -1.3413703e+00 -9.3401745e-02\n",
            "  -1.0639921e+00  2.3342687e-01 -4.6671456e-01  1.0606412e+00\n",
            "  -1.8725123e+00  1.2577251e-01  1.2178698e+00 -1.0303625e+00\n",
            "  -1.6077695e+00  2.3877114e-01 -4.0332854e-01  1.6142652e+00\n",
            "  -1.7292393e+00 -7.1152794e-01  2.3573670e+00  1.1817988e+00\n",
            "   9.9127501e-01  1.3302470e+00  6.2212241e-01  1.1190267e+00\n",
            "  -4.2660040e-01  4.2076647e-01 -1.9886855e+00 -9.9787384e-02\n",
            "   1.4555228e-01  8.8857883e-01  2.5655627e-01 -1.0699033e+00\n",
            "   1.0988365e-01 -8.5155612e-01 -1.6583643e+00 -2.4877126e+00\n",
            "   1.1755420e+00  4.2423368e-01  5.8945906e-01  4.3363589e-01\n",
            "   5.5021548e-01 -3.5839653e+00  3.6689556e-01  5.8975053e-01\n",
            "   4.3064272e-01  1.2684698e+00  2.4323375e+00  4.5507139e-01\n",
            "   1.3220234e+00 -8.4171051e-01 -1.1156262e+00  4.0884668e-01\n",
            "   5.9640229e-01  1.5891263e-01 -8.9061797e-01  2.1857319e+00\n",
            "   6.7970228e-01 -9.8417139e-01 -1.9799702e+00 -5.0860113e-01\n",
            "  -4.6751463e-01  4.0023082e-01 -8.8160932e-01  8.8998234e-01\n",
            "   1.5214941e-01  2.8793639e-01 -1.3004169e+00 -9.0773478e-03\n",
            "  -1.6269267e-02  2.8391773e-01 -2.4395697e-01 -6.0050392e-01\n",
            "   9.1960222e-02  5.6978667e-01  2.0310202e+00  2.6129746e-01\n",
            "   1.4317438e-02 -5.7966453e-01  3.0844009e-01  3.3132485e-01\n",
            "   1.1323646e+00 -4.2865491e-01 -1.4283618e+00 -2.0740092e-02\n",
            "   1.3050541e+00 -7.7649340e-02  7.4981034e-01  3.6268905e-02\n",
            "  -1.8146074e+00  1.9541346e+00  2.5952375e-01  1.2025610e+00\n",
            "   9.6178222e-01 -8.3421266e-01 -4.7836089e-01  1.3716978e+00\n",
            "  -2.4808192e-01 -1.2692522e+00  5.7734835e-01 -8.3422601e-01\n",
            "   9.7358072e-01 -2.4202416e+00 -1.5582268e+00  1.0906010e+00\n",
            "  -9.7664052e-01 -1.1944561e+00 -2.1486379e-01  2.1511116e+00\n",
            "   9.3767184e-01 -5.9146720e-01 -4.6337342e-01  9.4761670e-01\n",
            "  -5.7410276e-01 -1.6210070e-01  7.3970601e-02 -1.4466417e-01\n",
            "  -1.4398027e-02  1.1590275e+00  1.1025948e-01 -1.2754744e+00\n",
            "  -1.5799800e+00 -2.1357102e+00 -1.1889083e+00  1.0250598e+00]\n",
            " [-1.1921546e+00 -1.1840198e-01 -3.2158166e-01 -1.3853948e+00\n",
            "  -1.4678082e-01 -3.5882491e-01 -7.5372517e-01  2.6644850e-01\n",
            "  -4.3554884e-01  5.1722181e-01  4.1723919e-01  2.2525175e-01\n",
            "  -1.3331274e+00  8.2122588e-01  9.9019033e-01 -1.9141062e+00\n",
            "  -6.9254184e-01  2.9783767e-01  2.7466354e-01  7.5692672e-01\n",
            "  -1.1351386e+00 -1.3515017e+00  1.0534419e+00  1.4705704e+00\n",
            "   8.6597878e-01  4.3244755e-01  1.6934870e+00 -1.4193815e-01\n",
            "  -9.8994285e-01 -1.5718158e-01 -7.2092921e-01 -3.5408335e+00\n",
            "  -7.2446483e-01  1.4531571e+00 -2.9805920e-01 -5.4031432e-01\n",
            "   8.3876961e-01 -4.4317394e-01 -1.4507979e-02 -1.5989163e+00\n",
            "   7.9998934e-01  1.0747569e+00  5.9904635e-01 -2.2733524e-02\n",
            "   1.8898931e-01 -2.3438478e+00  4.5601377e-01  8.9788252e-01\n",
            "   2.5306308e-01  1.1080766e+00  3.0861001e+00  1.4011320e-01\n",
            "   1.0549874e+00 -4.2894846e-01 -7.3730230e-01  7.7832079e-01\n",
            "  -1.3611443e-02 -9.1136688e-01  1.6143038e+00  1.7569891e+00\n",
            "   9.6137011e-01 -1.1824952e+00 -1.4202280e+00 -4.1489653e-02\n",
            "   7.1355492e-02  9.3004990e-01 -4.6295351e-01  4.4183069e-01\n",
            "   6.8053466e-01  5.0112849e-01 -7.5377339e-01 -1.7648400e+00\n",
            "   6.5106207e-01 -8.2158440e-01 -2.3064184e+00 -3.9352632e-01\n",
            "  -4.6622586e-01 -1.3955075e-01  1.4530203e+00  9.9626112e-01\n",
            "   1.1606483e+00 -1.3411299e+00 -5.5242646e-01  2.1960363e-01\n",
            "   6.5166759e-01  8.8648683e-01 -1.6541810e+00 -2.6590109e-01\n",
            "   1.2809428e+00 -7.1874034e-01  1.5643556e+00 -3.1114382e-01\n",
            "  -1.8219448e+00  2.7330163e+00  6.2822896e-01  9.9150693e-01\n",
            "   1.5242125e+00 -6.3357627e-01 -1.6969416e-01  1.2905467e+00\n",
            "   1.4468862e-01 -5.7916760e-01  4.1914421e-01 -1.3072574e-01\n",
            "   5.3978860e-01 -2.9479368e+00 -1.6401960e+00  9.7537649e-01\n",
            "  -7.9550952e-02 -7.6891142e-01 -2.4047968e-01  1.0659661e+00\n",
            "   5.2972722e-01 -6.2684232e-01 -1.0941002e+00  4.3791369e-02\n",
            "   5.3756833e-03  4.3532190e-01 -5.2148664e-01 -9.3716604e-01\n",
            "  -7.7594531e-01  1.1218350e+00  7.9059684e-01 -1.1071937e+00\n",
            "  -2.2459412e+00 -1.7532896e+00 -1.9690614e+00  6.8958044e-01]\n",
            " [-9.2491761e-02 -1.4265420e+00 -5.6764579e-01 -4.5158243e-01\n",
            "  -5.4589415e-01  4.2768663e-01 -3.6804569e-01  1.3279629e-01\n",
            "  -1.0217440e+00  6.2381464e-01 -7.5594705e-01  2.8408307e-01\n",
            "  -2.1967158e+00  3.9134470e-01  1.2631195e+00 -1.7470180e+00\n",
            "  -2.0165978e-01  4.1728804e-01 -6.2186223e-01  7.0011139e-01\n",
            "  -2.2462532e-01 -1.9804351e+00  9.9455625e-01  4.9713388e-01\n",
            "   1.4753801e+00 -8.2454765e-01  1.4984053e+00  1.4156997e+00\n",
            "  -8.7058765e-01  5.4376936e-01 -2.5163422e+00 -9.3111575e-01\n",
            "  -9.5240521e-01  1.8792865e+00 -4.8963781e-02 -1.7230064e-03\n",
            "   1.1168655e+00  3.4216967e-01 -2.8874552e+00 -6.7575812e-01\n",
            "   6.8820584e-01 -6.1932433e-01  8.7829456e-02  5.1374233e-01\n",
            "   1.5176198e-01 -1.5544796e+00  7.6164377e-01  3.4798540e-02\n",
            "   3.7715721e-01  9.1071653e-01  2.5458450e+00  3.1018436e-01\n",
            "   1.1358824e+00 -1.1243485e+00 -7.9132330e-01 -1.0656575e+00\n",
            "   2.1650083e-01 -1.6103787e+00  1.0249864e+00 -6.0311556e-01\n",
            "  -4.8865354e-01 -1.3319867e+00 -1.0229619e+00 -4.0316606e-01\n",
            "  -8.6631739e-01  1.9023274e+00  7.4484468e-02 -1.9119938e-01\n",
            "  -8.5273141e-01  1.9425216e-01 -1.2226845e+00 -7.4204814e-01\n",
            "   2.0437171e+00  3.1690770e-01 -6.2096751e-01 -3.8285640e-01\n",
            "   7.8485972e-01 -3.5614109e-01  1.7953427e+00  2.2549793e-01\n",
            "   5.2197033e-01 -1.4604157e+00 -9.7973980e-02  4.5860812e-01\n",
            "   1.1599989e+00  5.6739151e-01 -2.0968180e+00  2.6399374e-02\n",
            "   1.7435082e+00  2.9404429e-01  9.5632821e-01 -2.2585234e-01\n",
            "  -1.7884347e+00  1.7347662e+00  9.3419588e-01  1.9436101e+00\n",
            "   2.4005742e+00 -6.6205096e-01 -3.9204204e-01  1.9636108e-01\n",
            "   5.7481300e-02 -1.0332425e+00 -4.1416693e-01  1.6727975e-01\n",
            "   6.2968922e-01 -2.0594096e+00 -1.3197737e+00  6.0694849e-01\n",
            "   9.1434062e-01 -8.5089147e-01 -5.2415365e-01  9.6062356e-01\n",
            "   1.2718494e+00  1.7426063e-01 -2.2342443e+00 -8.5428113e-01\n",
            "  -6.5050727e-01  1.3579665e+00  3.8453197e-01  8.7246478e-01\n",
            "  -8.2185078e-01  1.2732620e+00  4.8786455e-01 -6.7158175e-01\n",
            "  -1.8772693e+00 -1.8456476e+00 -6.5176594e-01  9.4818515e-01]\n",
            " [-8.0561882e-01 -4.8912841e-01 -7.7443063e-01 -2.8973229e+00\n",
            "  -4.4868995e-02  2.5403789e-01 -3.4081715e-01  7.1813130e-01\n",
            "  -1.0884820e+00  4.2704400e-01  1.2680992e-01  9.4831479e-01\n",
            "  -1.3393184e+00  4.4256046e-01  4.7345465e-01  2.6091361e-01\n",
            "  -5.1558369e-01  4.6818569e-01  5.1961452e-01  8.0058199e-01\n",
            "  -9.4795096e-01 -4.9402022e-01  1.5701696e+00  1.1310127e+00\n",
            "   6.1684275e-01  3.0274025e-01  9.4306362e-01 -9.7184703e-02\n",
            "  -9.2097330e-01  4.5104450e-01 -2.5307641e+00 -4.1482668e+00\n",
            "  -9.3190289e-01  6.9293928e-01  1.4826454e-01 -1.1867287e+00\n",
            "   3.1383151e-01  4.9562782e-02 -1.5421085e+00 -7.7008092e-01\n",
            "   5.3082609e-01  9.3608207e-01  4.3376875e-01  4.4280872e-02\n",
            "  -8.3587587e-01 -2.2348888e+00  3.5242626e-01  1.6264021e+00\n",
            "   1.2740583e+00  3.5700351e-01  2.3733082e+00  4.8199332e-01\n",
            "   7.7831054e-01 -9.6159095e-01 -6.4159608e-01  5.5610842e-01\n",
            "   9.1605633e-04 -3.0276892e-01  1.0665619e+00  7.1736407e-01\n",
            "   3.9532760e-01 -1.4147846e+00 -1.3751619e+00 -1.3422981e-01\n",
            "  -7.1660364e-01  1.5929278e+00 -2.9152818e-02  3.5564992e-01\n",
            "   5.0774805e-02  8.4928066e-01 -4.7371328e-01 -2.2674923e+00\n",
            "   9.2812133e-01 -8.8135391e-01 -1.8836753e+00 -5.2781862e-01\n",
            "  -1.9556299e-01 -2.1719398e-01  2.1667476e+00 -8.8833496e-03\n",
            "   7.4492252e-01 -1.1842799e+00 -2.0706213e-01  4.9761742e-01\n",
            "   3.4292245e-01  4.7130734e-01 -2.2305298e+00 -2.9758027e-01\n",
            "   9.5430666e-01  5.0973701e-01  1.4195051e+00 -3.1229493e-01\n",
            "  -2.3738225e+00  1.3667349e+00  1.4277164e+00  1.3267066e+00\n",
            "   1.6178161e+00 -5.9528202e-01 -3.0204132e-01  7.5589156e-01\n",
            "   1.5944580e+00 -7.6361835e-01  6.5857637e-01 -2.2875205e-02\n",
            "   1.2221613e+00 -2.7325068e+00 -8.6104596e-01  5.3736508e-01\n",
            "   5.8938140e-01 -1.0140928e+00 -4.8279321e-01  1.3874819e+00\n",
            "   4.5726332e-01 -8.2254481e-01  1.6910791e-01  1.5128639e-01\n",
            "  -2.0839863e-02 -4.1584849e-02  5.9721792e-01 -8.0021960e-01\n",
            "   1.1553039e-01  1.2294122e+00  1.3267990e+00 -5.0238311e-01\n",
            "  -2.6428382e+00 -2.1066425e+00 -1.4761381e+00  6.5125465e-01]\n",
            " [-4.5620632e-01  6.8775788e-02 -8.8965410e-01 -1.1351259e+00\n",
            "   8.2455111e-01 -8.1585467e-02 -3.2629609e-01  1.6519055e-02\n",
            "  -1.6327548e+00  6.5596163e-01 -4.9960887e-01  1.1289051e+00\n",
            "  -1.4332592e+00 -7.6584494e-01  1.4353964e+00 -1.7076168e+00\n",
            "  -5.3435022e-01  5.1654625e-01 -4.1907904e-01  9.0731853e-01\n",
            "  -1.3216764e+00 -1.1400459e+00  1.2335907e+00  1.2038732e+00\n",
            "   9.9011141e-01 -4.0171221e-01  7.4542916e-01  5.3949678e-01\n",
            "  -4.4228780e-01  7.5300956e-01 -2.5098689e+00 -7.7050304e-01\n",
            "  -6.4316571e-01  1.1263469e+00  4.9003428e-01 -1.1534370e+00\n",
            "   6.3185060e-01 -4.1212440e-02 -2.9719701e+00 -1.4090705e+00\n",
            "   4.5627475e-01  4.5631781e-01  6.1413336e-01 -1.8750119e-01\n",
            "  -7.3601198e-01 -2.3659930e+00  2.8850302e-01  2.1808078e+00\n",
            "   4.1401628e-01  4.4445568e-01  4.2434459e+00  3.7568182e-01\n",
            "   3.6248419e-01 -1.4046965e+00 -6.5745932e-01  4.0850163e-01\n",
            "   1.3746309e-01 -2.4395607e-01 -3.9220241e-01  1.1052142e+00\n",
            "   3.3465058e-02 -4.0684640e-01 -1.5186962e+00 -3.5036767e-01\n",
            "  -8.5629380e-01  1.5158108e+00  1.2034967e-01 -2.5590655e-01\n",
            "   1.8862721e-01  4.7656828e-01 -1.4714381e+00 -8.2607043e-01\n",
            "   1.4210907e+00 -1.8909086e-01 -1.4631329e+00 -1.2567424e+00\n",
            "   5.6055415e-01 -5.0076777e-01  2.0667362e+00  3.7079224e-01\n",
            "   5.5213124e-02 -1.4042147e+00 -1.8004403e-03  2.0812181e-01\n",
            "   3.0570272e-01  5.0104982e-01 -1.6452533e+00 -1.1110233e-01\n",
            "   8.2341945e-01 -1.7096144e-01  1.4371164e+00  1.7091873e-01\n",
            "  -1.6489327e+00  1.9622028e+00  1.2163893e+00  1.0962021e+00\n",
            "   2.0934019e+00 -8.4047621e-01 -1.7155261e-01  7.6673961e-01\n",
            "  -6.8945419e-03 -2.6499891e-01  4.0864891e-01 -1.5060630e-01\n",
            "   1.2277931e+00 -2.4177668e+00 -8.3136773e-01  1.6161312e+00\n",
            "   1.4610356e-01  2.3056620e-01 -5.0500322e-02  9.7997522e-01\n",
            "   1.0744694e+00 -2.4735038e+00 -2.4537450e-01 -5.0458044e-01\n",
            "  -7.8704798e-01 -5.2507311e-01  1.0350276e+00 -1.2861124e-01\n",
            "  -1.4559455e+00  1.2262192e+00  5.7644135e-01 -9.3126404e-01\n",
            "  -4.0864658e-01 -1.1773775e+00 -2.3403511e+00  1.3927382e+00]\n",
            " [-1.9584763e-01 -1.5798693e+00 -3.5589758e-01 -9.9011588e-01\n",
            "   4.2749903e-01 -5.9586251e-01 -8.8070154e-01  8.2718861e-01\n",
            "  -5.9391654e-01  1.4083688e+00 -1.9419715e-02 -3.3629516e-01\n",
            "  -1.6057910e+00 -1.2446995e-01  1.1531444e+00 -1.5039375e+00\n",
            "  -6.0393947e-01  1.0990400e+00 -8.5505143e-02  5.3564489e-01\n",
            "  -1.7494353e+00 -1.2598943e+00  9.2187345e-01  1.6987827e-01\n",
            "   1.4324255e+00 -4.8616064e-01  9.2701918e-01  9.0793264e-01\n",
            "  -6.3777566e-01  3.5510242e-01 -1.5643561e+00 -7.7774030e-01\n",
            "  -1.4971562e-01  8.8096529e-01  1.4047954e+00 -4.0978175e-01\n",
            "   1.3686197e+00 -2.4040261e-01 -1.6772702e+00  6.3196474e-01\n",
            "   5.0048757e-01  4.5246008e-01 -1.2027933e-01  5.0560158e-01\n",
            "  -1.1039442e+00 -2.1018982e+00  1.6081989e-01  2.0414793e+00\n",
            "   1.0801625e+00 -3.7356496e-01  1.9914418e+00  3.7995750e-01\n",
            "   1.3651477e+00 -1.5159005e+00 -7.1657199e-01 -1.3343971e+00\n",
            "   7.3321544e-02 -3.6429214e-01  3.1202996e-01  1.1687951e+00\n",
            "   4.9481028e-01  1.4306137e-01 -1.0346601e+00 -1.5929790e+00\n",
            "  -7.3564708e-01  1.7582541e+00 -8.4713674e-01 -1.1902324e-01\n",
            "  -3.4137022e-01  2.4195608e-01 -1.3136724e+00 -6.3225102e-01\n",
            "   9.9468428e-01  1.0609035e+00 -9.5241880e-01 -1.2300527e+00\n",
            "   1.0790615e+00 -7.3795277e-01  3.1345725e+00  1.2554917e+00\n",
            "   7.3970878e-01 -9.5103700e-03 -5.8871484e-01 -4.4937027e-01\n",
            "  -2.3688611e-01  4.7654951e-01 -1.9413471e+00 -8.4009361e-01\n",
            "   2.4801555e+00  8.2639605e-01  9.9653310e-01 -3.0011520e-02\n",
            "  -1.1919296e+00  1.7688266e+00  1.7993098e+00  5.7071006e-01\n",
            "   1.4733310e-01 -2.2454125e-01 -8.1745431e-02  1.1598166e+00\n",
            "   4.5434755e-01 -1.1780651e+00  2.9106125e-01  1.6446130e-01\n",
            "   1.1725390e-01 -5.7498586e-01 -1.5490800e+00  9.4773179e-01\n",
            "   8.1079221e-01 -1.2695476e+00 -3.6571428e-01  1.0750357e+00\n",
            "   4.2258489e-01 -1.4600698e+00 -9.2350796e-02 -6.4822781e-01\n",
            "  -1.3072499e+00 -9.0476531e-01  1.8782127e-01 -6.8567887e-02\n",
            "  -1.4580603e+00  1.9795216e+00 -2.5356033e-01  2.7650148e-02\n",
            "  -1.9420933e+00 -2.5435617e+00 -1.9969196e+00  5.9869885e-01]]\n"
          ]
        }
      ],
      "source": [
        "bert_results = bert_model(text_preprocessed)\n",
        "\n",
        "print(f'Loaded BERT: {tfhub_encoder}')\n",
        "print(f'Pooled Outputs Shape:{bert_results[\"pooled_output\"].shape}')\n",
        "print(f'Pooled Outputs Values:{bert_results[\"pooled_output\"][0, :len(text_test[0].split())]}') #sentence embedding\n",
        "print(f'Sequence Outputs Shape:{bert_results[\"sequence_output\"].shape}')\n",
        "print(f'Sequence Outputs Values:{bert_results[\"sequence_output\"][0, :len(text_test[0].split())]}') #contextual embedding"
      ]
    },
    {
      "cell_type": "markdown",
      "metadata": {
        "id": "vvxxCefxRnqI"
      },
      "source": [
        "#Model"
      ]
    },
    {
      "cell_type": "code",
      "execution_count": 11,
      "metadata": {
        "id": "0O3Q9jvtHSB0"
      },
      "outputs": [],
      "source": [
        "def build_classifier_model():\n",
        "  text_input = tf.keras.layers.Input(shape=(), dtype=tf.string, name='text')\n",
        "  preprocessing_layer = hub.KerasLayer(tfhub_preprocess, name='preprocessing')\n",
        "  encoder_inputs = preprocessing_layer(text_input)\n",
        "  encoder = hub.KerasLayer(tfhub_encoder, trainable=True, name='BERT_encoder')\n",
        "  outputs = encoder(encoder_inputs)\n",
        "  net = outputs['pooled_output']\n",
        "  net = tf.keras.layers.Dropout(0.1)(net)\n",
        "  net = tf.keras.layers.Dense(1, activation=None, name='classifier')(net)\n",
        "  return tf.keras.Model(text_input, net)"
      ]
    },
    {
      "cell_type": "code",
      "execution_count": 12,
      "metadata": {
        "colab": {
          "base_uri": "https://localhost:8080/"
        },
        "id": "lTarFjaZR0eX",
        "outputId": "1dc903b2-618d-463f-d73e-6661eabcc696"
      },
      "outputs": [
        {
          "output_type": "stream",
          "name": "stdout",
          "text": [
            "tf.Tensor([[0.19234928]], shape=(1, 1), dtype=float32)\n"
          ]
        }
      ],
      "source": [
        "#testing untrain model\n",
        "classifier_model = build_classifier_model()\n",
        "bert_raw_result = classifier_model(tf.constant(text_test))\n",
        "print(tf.sigmoid(bert_raw_result))"
      ]
    },
    {
      "cell_type": "code",
      "execution_count": 13,
      "metadata": {
        "colab": {
          "base_uri": "https://localhost:8080/",
          "height": 54
        },
        "id": "g4Iz58G5SAwx",
        "outputId": "d73a4d9c-dc20-434d-aaf5-9a27bf0dc9f3"
      },
      "outputs": [
        {
          "output_type": "execute_result",
          "data": {
            "image/png": "[encoded data removed]",
            "text/plain": [
              "<IPython.core.display.Image object>"
            ]
          },
          "metadata": {},
          "execution_count": 13
        }
      ],
      "source": [
        "tf.keras.utils.plot_model(classifier_model)"
      ]
    },
    {
      "cell_type": "markdown",
      "metadata": {
        "id": "nAQpKJSsYJtB"
      },
      "source": [
        "#Training"
      ]
    },
    {
      "cell_type": "code",
      "execution_count": 14,
      "metadata": {
        "id": "jlv1xRpxSnGZ"
      },
      "outputs": [],
      "source": [
        "loss = tf.keras.losses.BinaryCrossentropy(from_logits=True)\n",
        "metrics = tf.metrics.BinaryAccuracy()"
      ]
    },
    {
      "cell_type": "code",
      "execution_count": 15,
      "metadata": {
        "id": "dVUTBpaXTVTX"
      },
      "outputs": [],
      "source": [
        "epochs = 3\n",
        "steps_per_epoch = tf.data.experimental.cardinality(train_ds).numpy()  #iterations in one epoch = total_no_of_samples / batch_size\n",
        "num_train_steps = steps_per_epoch * epochs  #total number of training steps (batches) = (number of epochs) * (steps_per_epoch)\n",
        "num_warmup_steps = int(0.1*num_train_steps)  #learning rate scheduling.\n",
        "#During warm-up, the learning rate gradually increases from a small value to the initial learning rate.\n",
        "init_lr = 1e-3 #learning rate\n",
        "optimizer = optimization.create_optimizer(init_lr=init_lr,\n",
        "                                          num_train_steps=num_train_steps,\n",
        "                                          num_warmup_steps=num_warmup_steps,\n",
        "                                          optimizer_type='adamw')"
      ]
    },
    {
      "cell_type": "code",
      "execution_count": 16,
      "metadata": {
        "id": "mDptHS5rTqYT"
      },
      "outputs": [],
      "source": [
        "classifier_model.compile(optimizer=optimizer,\n",
        "                         loss=loss,\n",
        "                         metrics=metrics)"
      ]
    },
    {
      "cell_type": "code",
      "execution_count": 17,
      "metadata": {
        "colab": {
          "base_uri": "https://localhost:8080/"
        },
        "id": "mS_UtSDnX8WS",
        "outputId": "6729d002-a9b2-4312-f581-db6e79d35f83"
      },
      "outputs": [
        {
          "output_type": "stream",
          "name": "stdout",
          "text": [
            "Training model with https://tfhub.dev/tensorflow/small_bert/bert_en_uncased_L-2_H-128_A-2/1\n",
            "Epoch 1/3\n",
            "625/625 [==============================] - 288s 455ms/step - loss: 0.5104 - binary_accuracy: 0.7387 - val_loss: 0.4196 - val_binary_accuracy: 0.8114\n",
            "Epoch 2/3\n",
            "625/625 [==============================] - 282s 451ms/step - loss: 0.2829 - binary_accuracy: 0.8855 - val_loss: 0.4981 - val_binary_accuracy: 0.8152\n",
            "Epoch 3/3\n",
            "625/625 [==============================] - 279s 446ms/step - loss: 0.1341 - binary_accuracy: 0.9528 - val_loss: 0.7124 - val_binary_accuracy: 0.8142\n"
          ]
        }
      ],
      "source": [
        "print(f'Training model with {tfhub_encoder}')\n",
        "history = classifier_model.fit(x=train_ds,\n",
        "                               validation_data=val_ds,\n",
        "                               epochs=epochs)"
      ]
    },
    {
      "cell_type": "markdown",
      "metadata": {
        "id": "zFhuM3fkYQvg"
      },
      "source": [
        "#Evaluate"
      ]
    },
    {
      "cell_type": "code",
      "execution_count": 18,
      "metadata": {
        "colab": {
          "base_uri": "https://localhost:8080/"
        },
        "id": "eZPDKyFfYQRf",
        "outputId": "5ed5660c-1fa3-47cc-b39a-8299886fdf92"
      },
      "outputs": [
        {
          "output_type": "stream",
          "name": "stdout",
          "text": [
            "782/782 [==============================] - 95s 121ms/step - loss: 0.8460 - binary_accuracy: 0.7822\n",
            "Loss: 0.8460214734077454\n",
            "Accuracy: 0.7821599841117859\n"
          ]
        }
      ],
      "source": [
        "loss, accuracy = classifier_model.evaluate(test_ds)\n",
        "\n",
        "print(f'Loss: {loss}')\n",
        "print(f'Accuracy: {accuracy}')"
      ]
    },
    {
      "cell_type": "code",
      "execution_count": 19,
      "metadata": {
        "colab": {
          "base_uri": "https://localhost:8080/",
          "height": 453
        },
        "id": "OKb-iiZOYDaH",
        "outputId": "8465f677-fe14-4ee8-a7b8-85ca5107d5dc"
      },
      "outputs": [
        {
          "output_type": "stream",
          "name": "stdout",
          "text": [
            "dict_keys(['loss', 'binary_accuracy', 'val_loss', 'val_binary_accuracy'])\n"
          ]
        },
        {
          "output_type": "execute_result",
          "data": {
            "text/plain": [
              "<matplotlib.legend.Legend at 0x7c20b3783730>"
            ]
          },
          "metadata": {},
          "execution_count": 19
        },
        {
          "output_type": "display_data",
          "data": {
            "text/plain": [
              "<Figure size 1000x600 with 2 Axes>"
            ],
            "image/png": "[encoded data removed]"
          },
          "metadata": {}
        }
      ],
      "source": [
        "history_dict = history.history\n",
        "print(history_dict.keys())\n",
        "\n",
        "acc = history_dict['binary_accuracy']\n",
        "val_acc = history_dict['val_binary_accuracy']\n",
        "loss = history_dict['loss']\n",
        "val_loss = history_dict['val_loss']\n",
        "\n",
        "epochs = range(1, len(acc) + 1)\n",
        "fig = plt.figure(figsize=(10, 6))\n",
        "fig.tight_layout()\n",
        "\n",
        "plt.subplot(2, 1, 1)\n",
        "# r is for \"solid red line\"\n",
        "plt.plot(epochs, loss, 'r', label='Training loss')\n",
        "# b is for \"solid blue line\"\n",
        "plt.plot(epochs, val_loss, 'b', label='Validation loss')\n",
        "plt.title('Training and validation loss')\n",
        "# plt.xlabel('Epochs')\n",
        "plt.ylabel('Loss')\n",
        "plt.legend()\n",
        "\n",
        "plt.subplot(2, 1, 2)\n",
        "plt.plot(epochs, acc, 'r', label='Training acc')\n",
        "plt.plot(epochs, val_acc, 'b', label='Validation acc')\n",
        "plt.title('Training and validation accuracy')\n",
        "plt.xlabel('Epochs')\n",
        "plt.ylabel('Accuracy')\n",
        "plt.legend(loc='lower right')"
      ]
    },
    {
      "cell_type": "markdown",
      "metadata": {
        "id": "lBW_dHH4ZImy"
      },
      "source": [
        "#inference"
      ]
    },
    {
      "cell_type": "code",
      "execution_count": 20,
      "metadata": {
        "id": "KgTbO6DNYf8A"
      },
      "outputs": [],
      "source": [
        "dataset_name = 'imdb'\n",
        "saved_model_path = './{}_bert'.format(dataset_name.replace('/', '_'))\n",
        "\n",
        "classifier_model.save(saved_model_path, include_optimizer=False)"
      ]
    },
    {
      "cell_type": "code",
      "execution_count": 21,
      "metadata": {
        "id": "5JGYbJK7ZQRy"
      },
      "outputs": [],
      "source": [
        "reloaded_model = tf.saved_model.load(saved_model_path)"
      ]
    },
    {
      "cell_type": "code",
      "execution_count": 22,
      "metadata": {
        "id": "T0nM8RNpZQ-a"
      },
      "outputs": [],
      "source": [
        "def sentiment_predict(text):\n",
        "  result = reloaded_model(tf.constant(text))\n",
        "  return tf.sigmoid(result[0][0])"
      ]
    },
    {
      "cell_type": "code",
      "execution_count": 31,
      "metadata": {
        "id": "iAAC4d93Zykx",
        "colab": {
          "base_uri": "https://localhost:8080/"
        },
        "outputId": "df7fdf22-74e2-4a7f-e86d-0d1689981d03"
      },
      "outputs": [
        {
          "output_type": "stream",
          "name": "stdout",
          "text": [
            "Enter a movie review for prediction:\n",
            "It wan an amazing movie\n",
            "Positive review with an Probability score of:\t 0.9991664\n"
          ]
        }
      ],
      "source": [
        "prediction = sentiment_predict([input(\"Enter a movie review for prediction:\\n\")])\n",
        "if prediction > 0.5:\n",
        "  print(\"Positive review with an Probability score of:\\t\", prediction.numpy())\n",
        "else:\n",
        "  print(\"Negative review with an Probability score of:\\t\", prediction.numpy())\n"
      ]
    },
    {
      "cell_type": "code",
      "execution_count": 31,
      "metadata": {
        "id": "Bf0AJcUIZ_BC"
      },
      "outputs": [],
      "source": []
    }
  ],
  "metadata": {
    "colab": {
      "provenance": [],
      "gpuType": "T4",
      "include_colab_link": true
    },
    "kernelspec": {
      "display_name": "Python 3",
      "name": "python3"
    },
    "accelerator": "GPU"
  },
  "nbformat": 4,
  "nbformat_minor": 0
}